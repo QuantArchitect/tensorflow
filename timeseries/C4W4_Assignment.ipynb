{
 "cells": [
  {
   "cell_type": "markdown",
   "metadata": {
    "id": "D3JQckh-zGe_"
   },
   "source": [
    "# Week 4: Using real world data\n",
    "\n",
    "Welcome! So far you have worked exclusively with generated data. This time you will be using the [Daily Minimum Temperatures in Melbourne](https://github.com/jbrownlee/Datasets/blob/master/daily-min-temperatures.csv) dataset which contains data of the daily minimum temperatures recorded in Melbourne from 1981 to 1990. In addition to be using Tensorflow's layers for processing sequence data such as Recurrent layers or LSTMs you will also use Convolutional layers to improve the model's performance.\n",
    "\n",
    "Let's get started!"
   ]
  },
  {
   "cell_type": "code",
   "execution_count": null,
   "metadata": {
    "id": "56XEQOGknrAk",
    "ExecuteTime": {
     "end_time": "2024-04-01T00:20:13.287223500Z",
     "start_time": "2024-04-01T00:20:13.098860200Z"
    }
   },
   "outputs": [],
   "source": [
    "import csv\n",
    "import pickle\n",
    "import numpy as np\n",
    "import tensorflow as tf\n",
    "import matplotlib.pyplot as plt\n",
    "from dataclasses import dataclass"
   ]
  },
  {
   "cell_type": "code",
   "outputs": [],
   "source": [
    "from helper_functions import evaluate_preds"
   ],
   "metadata": {
    "ExecuteTime": {
     "end_time": "2024-04-01T03:12:14.656538600Z",
     "start_time": "2024-04-01T03:12:14.649289200Z"
    },
    "id": "81qnubZ1ruY9"
   },
   "execution_count": null
  },
  {
   "cell_type": "markdown",
   "metadata": {
    "id": "iksLPzrxzGfD"
   },
   "source": [
    "Begin by looking at the structure of the csv that contains the data:"
   ]
  },
  {
   "cell_type": "code",
   "execution_count": null,
   "metadata": {
    "id": "5hmlolDOzGfD",
    "outputId": "8ad6f561-fa43-4da0-a26a-9b63a918e5d1",
    "ExecuteTime": {
     "end_time": "2024-04-01T00:20:13.304048400Z",
     "start_time": "2024-04-01T00:20:13.285897600Z"
    }
   },
   "outputs": [
    {
     "name": "stdout",
     "output_type": "stream",
     "text": [
      "Header looks like this:\n",
      "\n",
      "\"Date\",\"Temp\"\n",
      "\n",
      "First data point looks like this:\n",
      "\n",
      "\"1981-01-01\",20.7\n",
      "\n",
      "Second data point looks like this:\n",
      "\n",
      "\"1981-01-02\",17.9\n"
     ]
    }
   ],
   "source": [
    "TEMPERATURES_CSV = './tmp/daily-min-temperatures.csv'\n",
    "\n",
    "with open(TEMPERATURES_CSV, 'r') as csvfile:\n",
    "    print(f\"Header looks like this:\\n\\n{csvfile.readline()}\")\n",
    "    print(f\"First data point looks like this:\\n\\n{csvfile.readline()}\")\n",
    "    print(f\"Second data point looks like this:\\n\\n{csvfile.readline()}\")"
   ]
  },
  {
   "cell_type": "code",
   "outputs": [
    {
     "data": {
      "text/plain": "'2.10.0'"
     },
     "execution_count": 4,
     "metadata": {},
     "output_type": "execute_result"
    }
   ],
   "source": [
    "tf.__version__"
   ],
   "metadata": {
    "id": "IRjVFAn9-ZUH",
    "outputId": "d7c0005b-eecc-4558-f270-2764c4a8cdd5",
    "ExecuteTime": {
     "end_time": "2024-04-01T00:20:13.328595Z",
     "start_time": "2024-04-01T00:20:13.296711900Z"
    }
   },
   "execution_count": null
  },
  {
   "cell_type": "code",
   "source": [
    "temp_url = \"https://github.com/jbrownlee/Datasets/blob/master/daily-min-temperatures.csv\"  # shortcut URL"
   ],
   "metadata": {
    "id": "YwhB1dta-ZUH",
    "ExecuteTime": {
     "end_time": "2024-04-01T00:20:13.353793800Z",
     "start_time": "2024-04-01T00:20:13.326521800Z"
    }
   },
   "execution_count": null,
   "outputs": []
  },
  {
   "cell_type": "code",
   "outputs": [],
   "source": [
    "# filepath = tf.keras.utils.get_file(\"daily-min-temperatures.csv\", temp_url)\n",
    "# filepath\n"
   ],
   "metadata": {
    "id": "bTxmKf7O1rDD",
    "ExecuteTime": {
     "end_time": "2024-04-01T00:20:13.373904600Z",
     "start_time": "2024-04-01T00:20:13.341560900Z"
    }
   },
   "execution_count": null
  },
  {
   "cell_type": "code",
   "outputs": [],
   "source": [
    "#!wget temp_url\n",
    "#!wget -q -P /content/ -N https://storage.googleapis.com/tensorflow-1-public/course2/week3/horse-or-human.zip"
   ],
   "metadata": {
    "id": "47PAGkbz-ZUI",
    "ExecuteTime": {
     "end_time": "2024-04-01T00:20:13.387447500Z",
     "start_time": "2024-04-01T00:20:13.357967900Z"
    }
   },
   "execution_count": null
  },
  {
   "cell_type": "code",
   "outputs": [
    {
     "name": "stdout",
     "output_type": "stream",
     "text": [
      "Usage: curl [options...] <url>\n",
      " -d, --data <data>          HTTP POST data\n",
      " -f, --fail                 Fail fast with no output on HTTP errors\n",
      " -h, --help <category>      Get help for commands\n",
      " -i, --include              Include protocol response headers in the output\n",
      " -o, --output <file>        Write to file instead of stdout\n",
      " -O, --remote-name          Write output to a file named as the remote file\n",
      " -s, --silent               Silent mode\n",
      " -T, --upload-file <file>   Transfer local FILE to destination\n",
      " -u, --user <user:password> Server user and password\n",
      " -A, --user-agent <name>    Send User-Agent <name> to server\n",
      " -v, --verbose              Make the operation more talkative\n",
      " -V, --version              Show version number and quit\n",
      "\n",
      "This is not the full help, this menu is stripped into categories.\n",
      "Use \"--help category\" to get an overview of all categories.\n",
      "For all options use the manual or \"--help all\".\n"
     ]
    }
   ],
   "source": [
    "!curl --help"
   ],
   "metadata": {
    "id": "2IxSs0jc-ZUI",
    "outputId": "91499aba-3cd1-4192-de7a-b9ef20a7cf09",
    "ExecuteTime": {
     "end_time": "2024-04-01T00:20:13.483769300Z",
     "start_time": "2024-04-01T00:20:13.373904600Z"
    }
   },
   "execution_count": null
  },
  {
   "cell_type": "markdown",
   "source": [
    "## CURL is similar to Wget . Curl doesnt like single quotes\n",
    "# you need to use -s for silent\n",
    "# -o to output file"
   ],
   "metadata": {
    "collapsed": false,
    "id": "4_qaO__i-ZUI"
   }
  },
  {
   "cell_type": "code",
   "outputs": [
    {
     "data": {
      "text/plain": "'https://github.com/jbrownlee/Datasets/blob/master/daily-min-temperatures.csv'"
     },
     "execution_count": 10,
     "metadata": {},
     "output_type": "execute_result"
    }
   ],
   "source": [
    "temp_url"
   ],
   "metadata": {
    "id": "qFqF1dMk-ZUI",
    "outputId": "20a9341d-bdf1-4f03-aba7-e30fe3d31abe",
    "ExecuteTime": {
     "end_time": "2024-04-01T00:20:13.487837500Z",
     "start_time": "2024-04-01T00:20:13.452714600Z"
    }
   },
   "execution_count": null
  },
  {
   "cell_type": "code",
   "outputs": [
    {
     "name": "stderr",
     "output_type": "stream",
     "text": [
      "  % Total    % Received % Xferd  Average Speed   Time    Time     Time  Current\n",
      "                                 Dload  Upload   Total   Spent    Left  Speed\n",
      "\n",
      "  0     0    0     0    0     0      0      0 --:--:-- --:--:-- --:--:--     0\n",
      "  0     0    0     0    0     0      0      0 --:--:-- --:--:-- --:--:--     0\n",
      "100  223k    0  223k    0     0   380k      0 --:--:-- --:--:-- --:--:--  381k\n"
     ]
    }
   ],
   "source": [
    "!curl  -o ./content/daily-min-temperatures.csv \"https://github.com/jbrownlee/Datasets/blob/master/daily-min-temperatures.csv\""
   ],
   "metadata": {
    "id": "7tJLNj5P-ZUI",
    "outputId": "a37e7a32-eac5-402a-cb28-dee339e53447",
    "ExecuteTime": {
     "end_time": "2024-04-01T00:20:14.141885300Z",
     "start_time": "2024-04-01T00:20:13.467265400Z"
    }
   },
   "execution_count": null
  },
  {
   "cell_type": "code",
   "source": [
    "import pandas as pd\n"
   ],
   "metadata": {
    "id": "T9nmqDaz3QkR",
    "ExecuteTime": {
     "end_time": "2024-04-01T00:20:14.173273900Z",
     "start_time": "2024-04-01T00:20:14.144013Z"
    }
   },
   "execution_count": null,
   "outputs": []
  },
  {
   "cell_type": "code",
   "outputs": [],
   "source": [
    "filepath1='./tmp/daily-min-temperatures.csv'\n"
   ],
   "metadata": {
    "id": "M0iPMNhD-ZUJ",
    "ExecuteTime": {
     "end_time": "2024-04-01T00:20:14.175274200Z",
     "start_time": "2024-04-01T00:20:14.159741300Z"
    }
   },
   "execution_count": null
  },
  {
   "cell_type": "code",
   "source": [
    "df=pd.read_csv(filepath1,parse_dates=['Date'],index_col=['Date'])\n",
    "df.info()"
   ],
   "metadata": {
    "colab": {
     "base_uri": "https://localhost:8080/"
    },
    "id": "FbCheXIP45JQ",
    "outputId": "0c464798-85d6-48d2-c4ac-c391958a08c2",
    "ExecuteTime": {
     "end_time": "2024-04-01T00:20:14.208963900Z",
     "start_time": "2024-04-01T00:20:14.174274700Z"
    }
   },
   "execution_count": null,
   "outputs": [
    {
     "name": "stdout",
     "output_type": "stream",
     "text": [
      "<class 'pandas.core.frame.DataFrame'>\n",
      "DatetimeIndex: 3650 entries, 1981-01-01 to 1990-12-31\n",
      "Data columns (total 1 columns):\n",
      " #   Column  Non-Null Count  Dtype  \n",
      "---  ------  --------------  -----  \n",
      " 0   Temp    3650 non-null   float64\n",
      "dtypes: float64(1)\n",
      "memory usage: 57.0 KB\n"
     ]
    }
   ]
  },
  {
   "cell_type": "code",
   "source": [
    "df.index"
   ],
   "metadata": {
    "colab": {
     "base_uri": "https://localhost:8080/"
    },
    "id": "YGqFU_x35GqC",
    "outputId": "906e0f9f-f1a0-4031-fdb0-8c265930511b",
    "ExecuteTime": {
     "end_time": "2024-04-01T00:20:14.219607600Z",
     "start_time": "2024-04-01T00:20:14.204822900Z"
    }
   },
   "execution_count": null,
   "outputs": [
    {
     "data": {
      "text/plain": "DatetimeIndex(['1981-01-01', '1981-01-02', '1981-01-03', '1981-01-04',\n               '1981-01-05', '1981-01-06', '1981-01-07', '1981-01-08',\n               '1981-01-09', '1981-01-10',\n               ...\n               '1990-12-22', '1990-12-23', '1990-12-24', '1990-12-25',\n               '1990-12-26', '1990-12-27', '1990-12-28', '1990-12-29',\n               '1990-12-30', '1990-12-31'],\n              dtype='datetime64[ns]', name='Date', length=3650, freq=None)"
     },
     "execution_count": 15,
     "metadata": {},
     "output_type": "execute_result"
    }
   ]
  },
  {
   "cell_type": "code",
   "source": [
    "df.Temp"
   ],
   "metadata": {
    "colab": {
     "base_uri": "https://localhost:8080/"
    },
    "id": "fV4AtSIv5Nu2",
    "outputId": "381eb4ba-4351-4e00-fc4a-359d71157646",
    "ExecuteTime": {
     "end_time": "2024-04-01T00:20:14.249321300Z",
     "start_time": "2024-04-01T00:20:14.223133300Z"
    }
   },
   "execution_count": null,
   "outputs": [
    {
     "data": {
      "text/plain": "Date\n1981-01-01    20.7\n1981-01-02    17.9\n1981-01-03    18.8\n1981-01-04    14.6\n1981-01-05    15.8\n              ... \n1990-12-27    14.0\n1990-12-28    13.6\n1990-12-29    13.5\n1990-12-30    15.7\n1990-12-31    13.0\nName: Temp, Length: 3650, dtype: float64"
     },
     "execution_count": 16,
     "metadata": {},
     "output_type": "execute_result"
    }
   ]
  },
  {
   "cell_type": "code",
   "source": [
    "df=df.rename(columns={\"Temp\":\"temp\"})"
   ],
   "metadata": {
    "id": "UQL8gHwm5ThY",
    "ExecuteTime": {
     "end_time": "2024-04-01T00:20:14.252576500Z",
     "start_time": "2024-04-01T00:20:14.237266Z"
    }
   },
   "execution_count": null,
   "outputs": []
  },
  {
   "cell_type": "code",
   "source": [
    "df.temp"
   ],
   "metadata": {
    "colab": {
     "base_uri": "https://localhost:8080/"
    },
    "id": "z_-uynTe5mm2",
    "outputId": "6a7e35f2-a884-48a9-de7e-cdf1e19ad606",
    "ExecuteTime": {
     "end_time": "2024-04-01T00:20:14.279385500Z",
     "start_time": "2024-04-01T00:20:14.252515200Z"
    }
   },
   "execution_count": null,
   "outputs": [
    {
     "data": {
      "text/plain": "Date\n1981-01-01    20.7\n1981-01-02    17.9\n1981-01-03    18.8\n1981-01-04    14.6\n1981-01-05    15.8\n              ... \n1990-12-27    14.0\n1990-12-28    13.6\n1990-12-29    13.5\n1990-12-30    15.7\n1990-12-31    13.0\nName: temp, Length: 3650, dtype: float64"
     },
     "execution_count": 18,
     "metadata": {},
     "output_type": "execute_result"
    }
   ]
  },
  {
   "cell_type": "markdown",
   "metadata": {
    "id": "NXiTTIfMzGfE"
   },
   "source": [
    "As you can see, each data point is composed of the date and the recorded minimum temperature for that date.\n",
    "\n",
    "\n",
    "In the first exercise you will code a function to read the data from the csv but for now run the next cell to load a helper function to plot the time series."
   ]
  },
  {
   "cell_type": "code",
   "execution_count": null,
   "metadata": {
    "id": "sLl52leVp5wU",
    "ExecuteTime": {
     "end_time": "2024-04-01T00:20:14.282482300Z",
     "start_time": "2024-04-01T00:20:14.268429300Z"
    }
   },
   "outputs": [],
   "source": [
    "def plot_series(time, series, format=\"-\", start=0, end=None):\n",
    "    plt.plot(time[start:end], series[start:end], format)\n",
    "    plt.xlabel(\"Time\")\n",
    "    plt.ylabel(\"Value\")\n",
    "    plt.grid(True)"
   ]
  },
  {
   "cell_type": "markdown",
   "metadata": {
    "id": "CJnEvbhTzGfE"
   },
   "source": [
    "## Parsing the raw data\n",
    "Now you need to read the data from the csv file. To do so, complete the `parse_data_from_file` function.\n",
    "\n",
    "A couple of things to note:\n",
    "\n",
    "- You should omit the first line as the file contains headers.\n",
    "- There is no need to save the data points as numpy arrays, regular lists is fine.\n",
    "- To read from csv files use `csv.reader` by passing the appropriate arguments.\n",
    "- `csv.reader` returns an iterable that returns each row in every iteration. So the temperature can be accessed via row[1] and the date can be discarded.\n",
    "- The `times` list should contain every timestep (starting at zero), which is just a sequence of ordered numbers with the same length as the `temperatures` list.\n",
    "- The values of the `temperatures` should be of `float` type. You can use Python's built-in `float` function to ensure this."
   ]
  },
  {
   "cell_type": "code",
   "execution_count": null,
   "metadata": {
    "id": "NcG9r1eClbTh",
    "ExecuteTime": {
     "end_time": "2024-04-01T00:20:14.321213700Z",
     "start_time": "2024-04-01T00:20:14.283523700Z"
    }
   },
   "outputs": [],
   "source": [
    "def parse_data_from_file(filename):\n",
    "\n",
    "    times = []\n",
    "    temperatures = []\n",
    "    temperatures = df.temp.tolist()\n",
    "    # times=df.temp.count.tolist()\n",
    "    times=np.arange(0,len(temperatures),1,dtype=float).tolist()\n",
    "\n",
    "\n",
    "    # with open(filename) as csvfile:\n",
    "\n",
    "    #     ### START CODE HERE\n",
    "\n",
    "    #     # reader = csv.reader(None, delimiter=None)\n",
    "\n",
    "    #     ### END CODE HERE\n",
    "\n",
    "    return times, temperatures\n",
    "\n",
    "TEMPERATURES_CSV1 = './data/min-temperatures.csv'\n",
    "# TEMPERATURES_CSV1 = './data/daily-min-temperatures.csv'\n",
    "# parse_data_from_file(TEMPERATURES_CSV1)"
   ]
  },
  {
   "cell_type": "markdown",
   "metadata": {
    "id": "XlGyNGlWzGfF"
   },
   "source": [
    "The next cell will use your function to compute the `times` and `temperatures` and will save these as numpy arrays within the `G` dataclass. This cell will also plot the time series:"
   ]
  },
  {
   "cell_type": "code",
   "execution_count": null,
   "metadata": {
    "colab": {
     "base_uri": "https://localhost:8080/",
     "height": 542
    },
    "id": "XMpU1PxSzGfF",
    "outputId": "39197288-e328-4454-af6e-86694f6720ee",
    "ExecuteTime": {
     "end_time": "2024-04-01T00:20:14.486079200Z",
     "start_time": "2024-04-01T00:20:14.301189300Z"
    }
   },
   "outputs": [
    {
     "data": {
      "text/plain": "<Figure size 1000x600 with 1 Axes>",
      "image/png": "[encoded data removed]"
     },
     "metadata": {},
     "output_type": "display_data"
    }
   ],
   "source": [
    "# Test your function and save all \"global\" variables within the G class (G stands for global)\n",
    "@dataclass\n",
    "class G:\n",
    "    TEMPERATURES_CSV = './data/daily-min-temperatures.csv'\n",
    "    times, temperatures = parse_data_from_file(TEMPERATURES_CSV)\n",
    "    TIME = np.array(times)\n",
    "    SERIES = np.array(temperatures)\n",
    "    SPLIT_TIME = 2500\n",
    "    WINDOW_SIZE = 64\n",
    "    BATCH_SIZE = 32\n",
    "    SHUFFLE_BUFFER_SIZE = 1000\n",
    "\n",
    "\n",
    "plt.figure(figsize=(10, 6))\n",
    "plot_series(G.TIME, G.SERIES)\n",
    "plt.show()"
   ]
  },
  {
   "cell_type": "code",
   "source": [
    "# G.TIME\n",
    "np.max(G.SERIES),np.min(G.SERIES),np.mean(G.SERIES),type(G.SERIES),G.SERIES.dtype,G.TIME.dtype"
   ],
   "metadata": {
    "colab": {
     "base_uri": "https://localhost:8080/"
    },
    "id": "oun6pCt07LLg",
    "outputId": "cd53a0b9-fcd9-40f3-dc0b-e49b7542f310",
    "ExecuteTime": {
     "end_time": "2024-04-01T00:20:14.500323500Z",
     "start_time": "2024-04-01T00:20:14.489333500Z"
    }
   },
   "execution_count": null,
   "outputs": [
    {
     "data": {
      "text/plain": "(26.3,\n 0.0,\n 11.177753424657535,\n numpy.ndarray,\n dtype('float64'),\n dtype('float64'))"
     },
     "execution_count": 22,
     "metadata": {},
     "output_type": "execute_result"
    }
   ]
  },
  {
   "cell_type": "markdown",
   "metadata": {
    "id": "86qlcWv8zGfF"
   },
   "source": [
    "**Expected Output:**\n",
    "<div>\n",
    "<img src=\"images/temp-series.png\" width=\"500\"/>\n",
    "</div>"
   ]
  },
  {
   "cell_type": "markdown",
   "metadata": {
    "id": "xMowCZPCzGfF"
   },
   "source": [
    "## Processing the data\n",
    "\n",
    "Since you already coded the `train_val_split` and `windowed_dataset` functions during past week's assignments, this time they are provided for you:"
   ]
  },
  {
   "cell_type": "code",
   "execution_count": null,
   "metadata": {
    "id": "tUdmJdrAzGfF",
    "ExecuteTime": {
     "end_time": "2024-04-01T00:20:14.534378Z",
     "start_time": "2024-04-01T00:20:14.501409300Z"
    }
   },
   "outputs": [],
   "source": [
    "def train_val_split(time, series, time_step=G.SPLIT_TIME):\n",
    "\n",
    "    time_train = time[:time_step]\n",
    "    series_train = series[:time_step]\n",
    "    time_valid = time[time_step:]\n",
    "    series_valid = series[time_step:]\n",
    "\n",
    "    return time_train, series_train, time_valid, series_valid\n",
    "\n",
    "\n",
    "# Split the dataset\n",
    "time_train, series_train, time_valid, series_valid = train_val_split(G.TIME, G.SERIES)"
   ]
  },
  {
   "cell_type": "code",
   "execution_count": null,
   "metadata": {
    "id": "lJwUUZscnG38",
    "ExecuteTime": {
     "end_time": "2024-04-01T00:20:16.647229400Z",
     "start_time": "2024-04-01T00:20:14.520769200Z"
    }
   },
   "outputs": [],
   "source": [
    "def windowed_dataset(series, window_size=G.WINDOW_SIZE, batch_size=G.BATCH_SIZE, shuffle_buffer=G.SHUFFLE_BUFFER_SIZE):\n",
    "    ds = tf.data.Dataset.from_tensor_slices(series)\n",
    "    ds = ds.window(window_size + 1, shift=1, drop_remainder=True)\n",
    "    ds = ds.flat_map(lambda w: w.batch(window_size + 1))\n",
    "    ds = ds.shuffle(shuffle_buffer)\n",
    "    ds = ds.map(lambda w: (w[:-1], w[-1]))\n",
    "    ds = ds.batch(batch_size).prefetch(1)\n",
    "    return ds\n",
    "\n",
    "\n",
    "# Apply the transformation to the training set\n",
    "train_set = windowed_dataset(series_train, window_size=G.WINDOW_SIZE, batch_size=G.BATCH_SIZE, shuffle_buffer=G.SHUFFLE_BUFFER_SIZE)"
   ]
  },
  {
   "cell_type": "code",
   "source": [
    "list(train_set.take(1))"
   ],
   "metadata": {
    "colab": {
     "base_uri": "https://localhost:8080/"
    },
    "id": "y_Y0hZ3q_NlZ",
    "outputId": "4efd552e-4318-409e-ca5a-7165b28d6021",
    "ExecuteTime": {
     "end_time": "2024-04-01T00:20:16.804960200Z",
     "start_time": "2024-04-01T00:20:16.648279200Z"
    }
   },
   "execution_count": null,
   "outputs": [
    {
     "data": {
      "text/plain": "[(<tf.Tensor: shape=(32, 64), dtype=float64, numpy=\n  array([[ 2.7,  4.3,  6.3, ..., 10.5,  7.6,  9.7],\n         [14.3,  8.3,  5.3, ..., 11.8, 10.6, 10. ],\n         [ 9.5,  9.5, 10.7, ...,  8.1,  5.5,  6.2],\n         ...,\n         [10. , 14.5, 11.7, ...,  6.7,  8.4,  6.5],\n         [ 8.6, 11.9, 14. , ..., 10.7, 10. ,  6.5],\n         [ 5. ,  7.4, 10.1, ..., 10.7, 16.9, 10.5]])>,\n  <tf.Tensor: shape=(32,), dtype=float64, numpy=\n  array([12.5, 12.2,  8. , 16. ,  7.3,  9.2, 12.2, 11.9, 11. , 11.4, 12.6,\n          9.5, 10.7,  7.5, 15.7,  7.1, 13. , 10.4, 10.5, 10.5, 11.1, 11.6,\n          8.3,  5.8, 12.2, 16.5,  8. ,  4.9, 11.9,  7.9,  7. ,  6.5])>)]"
     },
     "execution_count": 25,
     "metadata": {},
     "output_type": "execute_result"
    }
   ]
  },
  {
   "cell_type": "code",
   "source": [],
   "metadata": {
    "id": "Pacev8Kp_T_D",
    "ExecuteTime": {
     "end_time": "2024-04-01T00:20:16.839704800Z",
     "start_time": "2024-04-01T00:20:16.804960200Z"
    }
   },
   "execution_count": null,
   "outputs": []
  },
  {
   "cell_type": "markdown",
   "metadata": {
    "id": "bgwJ9LhjzGfF"
   },
   "source": [
    "## Defining the model architecture\n",
    "\n",
    "Now that you have a function that will process the data before it is fed into your neural network for training, it is time to define your layer architecture. Just as in last week's assignment you will do the layer definition and compilation in two separate steps. Begin by completing the `create_uncompiled_model` function below.\n",
    "\n",
    "This is done so you can reuse your model's layers for the learning rate adjusting and the actual training.\n",
    "\n",
    "Hint:\n",
    "\n",
    "- `Lambda` layers are not required.\n",
    "- Use a combination of `Conv1D` and `LSTM` layers followed by `Dense` layers"
   ]
  },
  {
   "cell_type": "code",
   "execution_count": null,
   "metadata": {
    "id": "5mXGdYtSzGfG",
    "ExecuteTime": {
     "end_time": "2024-04-01T00:20:16.841728100Z",
     "start_time": "2024-04-01T00:20:16.822012300Z"
    }
   },
   "outputs": [],
   "source": [
    "def create_uncompiled_model():\n",
    "\n",
    "    ### START CODE HERE\n",
    "\n",
    "    model = tf.keras.models.Sequential([\n",
    "      tf.keras.layers.Conv1D(filters=64, kernel_size=3,\n",
    "                          strides=1,\n",
    "                          activation=\"relu\",\n",
    "                          padding='causal',\n",
    "                          input_shape=[None, 1]),\n",
    "      tf.keras.layers.LSTM(64, return_sequences=True),\n",
    "      tf.keras.layers.LSTM(64),\n",
    "      tf.keras.layers.Dense(30, activation=\"relu\"),\n",
    "      tf.keras.layers.Dense(10, activation=\"relu\"),\n",
    "      tf.keras.layers.Dense(1),\n",
    "\n",
    "    ])\n",
    "\n",
    "    ### END CODE HERE\n",
    "\n",
    "    return model"
   ]
  },
  {
   "cell_type": "code",
   "outputs": [],
   "source": [
    "def create_uncompiled_model():\n",
    "\n",
    "    ### START CODE HERE\n",
    "\n",
    "    model = tf.keras.models.Sequential([\n",
    "      tf.keras.layers.Conv1D(filters=64, kernel_size=3,\n",
    "                          strides=1,\n",
    "                          activation=\"relu\",\n",
    "                          padding='causal',\n",
    "                          input_shape=[None, 1]),\n",
    "      tf.keras.layers.LSTM(64, return_sequences=True),\n",
    "      tf.keras.layers.LSTM(64),\n",
    "      tf.keras.layers.Dense(30, activation=\"relu\"),\n",
    "      tf.keras.layers.Dense(10, activation=\"relu\"),\n",
    "      tf.keras.layers.Dense(1),\n",
    "\n",
    "    ])\n",
    "\n",
    "    ### END CODE HERE\n",
    "\n",
    "    return model"
   ],
   "metadata": {
    "id": "kk_iaEa_-ZUK",
    "ExecuteTime": {
     "end_time": "2024-04-01T00:20:16.868754200Z",
     "start_time": "2024-04-01T00:20:16.836570200Z"
    }
   },
   "execution_count": null
  },
  {
   "cell_type": "code",
   "execution_count": null,
   "metadata": {
    "colab": {
     "base_uri": "https://localhost:8080/"
    },
    "id": "ZZZUBDDozGfG",
    "outputId": "598c700a-cdc0-4392-bb53-5a253d598135",
    "ExecuteTime": {
     "end_time": "2024-04-01T00:20:31.794917300Z",
     "start_time": "2024-04-01T00:20:16.859344400Z"
    }
   },
   "outputs": [
    {
     "name": "stdout",
     "output_type": "stream",
     "text": [
      "77/77 [==============================] - 15s 15ms/step\n",
      "Your current architecture is compatible with the windowed dataset! :)\n"
     ]
    }
   ],
   "source": [
    "\n",
    "# Test your uncompiled model\n",
    "uncompiled_model = create_uncompiled_model()\n",
    "\n",
    "try:\n",
    "    uncompiled_model.predict(train_set)\n",
    "except:\n",
    "    print(\"Your current architecture is incompatible with the windowed dataset, try adjusting it.\")\n",
    "else:\n",
    "    print(\"Your current architecture is compatible with the windowed dataset! :)\")"
   ]
  },
  {
   "cell_type": "markdown",
   "metadata": {
    "id": "HImPcfzhzGfG"
   },
   "source": [
    "## Adjusting the learning rate - (Optional Exercise)\n",
    "\n",
    "As you saw in the lecture you can leverage Tensorflow's callbacks to dinamically vary the learning rate during training. This can be helpful to get a better sense of which learning rate better acommodates to the problem at hand.\n",
    "\n",
    "**Notice that this is only changing the learning rate during the training process to give you an idea of what a reasonable learning rate is and should not be confused with selecting the best learning rate, this is known as hyperparameter optimization and it is outside the scope of this course.**\n",
    "\n",
    "For the optimizers you can try out:\n",
    "\n",
    "- tf.keras.optimizers.Adam\n",
    "- tf.keras.optimizers.SGD with a momentum of 0.9"
   ]
  },
  {
   "cell_type": "code",
   "execution_count": null,
   "metadata": {
    "id": "c4SokEwFzGfG",
    "ExecuteTime": {
     "end_time": "2024-04-01T00:20:31.828289200Z",
     "start_time": "2024-04-01T00:20:31.798058900Z"
    }
   },
   "outputs": [],
   "source": [
    "def adjust_learning_rate(dataset):\n",
    "\n",
    "    model = create_uncompiled_model()\n",
    "\n",
    "    lr_schedule = tf.keras.callbacks.LearningRateScheduler(lambda epoch: 1e-4 * 10**(epoch / 20))\n",
    "\n",
    "    ### START CODE HERE\n",
    "\n",
    "    # Select your optimizer\n",
    "    optimizer = tf.keras.optimizers.SGD(momentum=0.9)\n",
    "\n",
    "    # Compile the model passing in the appropriate loss\n",
    "    model.compile(loss=tf.keras.losses.Huber(),\n",
    "                  optimizer=optimizer,\n",
    "                  metrics=[\"mae\"])\n",
    "\n",
    "    ### END CODE HERE\n",
    "\n",
    "    history = model.fit(dataset, epochs=100, callbacks=[lr_schedule])\n",
    "\n",
    "    return history"
   ]
  },
  {
   "cell_type": "code",
   "execution_count": null,
   "metadata": {
    "colab": {
     "base_uri": "https://localhost:8080/",
     "height": 495
    },
    "id": "YyJTypxJzGfG",
    "outputId": "af8f2d12-3733-4494-cca7-de67ff8588e9",
    "ExecuteTime": {
     "end_time": "2024-04-01T00:21:51.213255700Z",
     "start_time": "2024-04-01T00:20:31.811575900Z"
    }
   },
   "outputs": [
    {
     "name": "stdout",
     "output_type": "stream",
     "text": [
      "Epoch 1/100\n",
      "77/77 [==============================] - 4s 12ms/step - loss: 9.9906 - mae: 10.4892 - lr: 1.0000e-04\n",
      "Epoch 2/100\n",
      "77/77 [==============================] - 1s 10ms/step - loss: 9.3403 - mae: 9.8390 - lr: 1.1220e-04\n",
      "Epoch 3/100\n",
      "77/77 [==============================] - 1s 10ms/step - loss: 7.7084 - mae: 8.2044 - lr: 1.2589e-04\n",
      "Epoch 4/100\n",
      "77/77 [==============================] - 1s 10ms/step - loss: 3.7514 - mae: 4.2249 - lr: 1.4125e-04\n",
      "Epoch 5/100\n",
      "77/77 [==============================] - 1s 10ms/step - loss: 2.4421 - mae: 2.9039 - lr: 1.5849e-04\n",
      "Epoch 6/100\n",
      "77/77 [==============================] - 1s 10ms/step - loss: 2.0714 - mae: 2.5262 - lr: 1.7783e-04\n",
      "Epoch 7/100\n",
      "77/77 [==============================] - 1s 11ms/step - loss: 1.9285 - mae: 2.3828 - lr: 1.9953e-04\n",
      "Epoch 8/100\n",
      "77/77 [==============================] - 1s 10ms/step - loss: 1.7915 - mae: 2.2433 - lr: 2.2387e-04\n",
      "Epoch 9/100\n",
      "77/77 [==============================] - 1s 10ms/step - loss: 1.8720 - mae: 2.3268 - lr: 2.5119e-04\n",
      "Epoch 10/100\n",
      "77/77 [==============================] - 1s 11ms/step - loss: 1.8640 - mae: 2.3171 - lr: 2.8184e-04\n",
      "Epoch 11/100\n",
      "77/77 [==============================] - 1s 10ms/step - loss: 1.7369 - mae: 2.1865 - lr: 3.1623e-04\n",
      "Epoch 12/100\n",
      "77/77 [==============================] - 1s 9ms/step - loss: 1.7625 - mae: 2.2148 - lr: 3.5481e-04\n",
      "Epoch 13/100\n",
      "77/77 [==============================] - 1s 9ms/step - loss: 1.7498 - mae: 2.2029 - lr: 3.9811e-04\n",
      "Epoch 14/100\n",
      "77/77 [==============================] - 1s 9ms/step - loss: 1.6977 - mae: 2.1498 - lr: 4.4668e-04\n",
      "Epoch 15/100\n",
      "77/77 [==============================] - 1s 9ms/step - loss: 1.6920 - mae: 2.1398 - lr: 5.0119e-04\n",
      "Epoch 16/100\n",
      "77/77 [==============================] - 1s 9ms/step - loss: 1.6498 - mae: 2.0971 - lr: 5.6234e-04\n",
      "Epoch 17/100\n",
      "77/77 [==============================] - 1s 9ms/step - loss: 1.6402 - mae: 2.0879 - lr: 6.3096e-04\n",
      "Epoch 18/100\n",
      "77/77 [==============================] - 1s 10ms/step - loss: 1.5954 - mae: 2.0419 - lr: 7.0795e-04\n",
      "Epoch 19/100\n",
      "77/77 [==============================] - 1s 9ms/step - loss: 1.6032 - mae: 2.0492 - lr: 7.9433e-04\n",
      "Epoch 20/100\n",
      "77/77 [==============================] - 1s 9ms/step - loss: 1.5857 - mae: 2.0318 - lr: 8.9125e-04\n",
      "Epoch 21/100\n",
      "77/77 [==============================] - 1s 9ms/step - loss: 1.5535 - mae: 1.9970 - lr: 0.0010\n",
      "Epoch 22/100\n",
      "77/77 [==============================] - 1s 9ms/step - loss: 1.5687 - mae: 2.0123 - lr: 0.0011\n",
      "Epoch 23/100\n",
      "77/77 [==============================] - 1s 9ms/step - loss: 1.6449 - mae: 2.0938 - lr: 0.0013\n",
      "Epoch 24/100\n",
      "77/77 [==============================] - 1s 8ms/step - loss: 1.6465 - mae: 2.0983 - lr: 0.0014\n",
      "Epoch 25/100\n",
      "77/77 [==============================] - 1s 9ms/step - loss: 1.5864 - mae: 2.0319 - lr: 0.0016\n",
      "Epoch 26/100\n",
      "77/77 [==============================] - 1s 9ms/step - loss: 1.6804 - mae: 2.1261 - lr: 0.0018\n",
      "Epoch 27/100\n",
      "77/77 [==============================] - 1s 9ms/step - loss: 1.5342 - mae: 1.9796 - lr: 0.0020\n",
      "Epoch 28/100\n",
      "77/77 [==============================] - 1s 8ms/step - loss: 1.5914 - mae: 2.0351 - lr: 0.0022\n",
      "Epoch 29/100\n",
      "77/77 [==============================] - 1s 9ms/step - loss: 1.6221 - mae: 2.0718 - lr: 0.0025\n",
      "Epoch 30/100\n",
      "77/77 [==============================] - 1s 9ms/step - loss: 1.5340 - mae: 1.9767 - lr: 0.0028\n",
      "Epoch 31/100\n",
      "77/77 [==============================] - 1s 9ms/step - loss: 1.6212 - mae: 2.0699 - lr: 0.0032\n",
      "Epoch 32/100\n",
      "77/77 [==============================] - 1s 9ms/step - loss: 1.5636 - mae: 2.0068 - lr: 0.0035\n",
      "Epoch 33/100\n",
      "77/77 [==============================] - 1s 9ms/step - loss: 1.7252 - mae: 2.1715 - lr: 0.0040\n",
      "Epoch 34/100\n",
      "77/77 [==============================] - 1s 9ms/step - loss: 1.7368 - mae: 2.1838 - lr: 0.0045\n",
      "Epoch 35/100\n",
      "77/77 [==============================] - 1s 9ms/step - loss: 1.7112 - mae: 2.1568 - lr: 0.0050\n",
      "Epoch 36/100\n",
      "77/77 [==============================] - 1s 9ms/step - loss: 1.5741 - mae: 2.0169 - lr: 0.0056\n",
      "Epoch 37/100\n",
      "77/77 [==============================] - 1s 9ms/step - loss: 1.6754 - mae: 2.1233 - lr: 0.0063\n",
      "Epoch 38/100\n",
      "77/77 [==============================] - 1s 9ms/step - loss: 1.7037 - mae: 2.1526 - lr: 0.0071\n",
      "Epoch 39/100\n",
      "77/77 [==============================] - 1s 9ms/step - loss: 1.6628 - mae: 2.1100 - lr: 0.0079\n",
      "Epoch 40/100\n",
      "77/77 [==============================] - 1s 9ms/step - loss: 1.7252 - mae: 2.1717 - lr: 0.0089\n",
      "Epoch 41/100\n",
      "77/77 [==============================] - 1s 9ms/step - loss: 1.6205 - mae: 2.0663 - lr: 0.0100\n",
      "Epoch 42/100\n",
      "77/77 [==============================] - 1s 9ms/step - loss: 1.6958 - mae: 2.1462 - lr: 0.0112\n",
      "Epoch 43/100\n",
      "77/77 [==============================] - 1s 9ms/step - loss: 1.9970 - mae: 2.4525 - lr: 0.0126\n",
      "Epoch 44/100\n",
      "77/77 [==============================] - 1s 8ms/step - loss: 1.7089 - mae: 2.1573 - lr: 0.0141\n",
      "Epoch 45/100\n",
      "77/77 [==============================] - 1s 8ms/step - loss: 1.9615 - mae: 2.4177 - lr: 0.0158\n",
      "Epoch 46/100\n",
      "77/77 [==============================] - 1s 9ms/step - loss: 1.8103 - mae: 2.2605 - lr: 0.0178\n",
      "Epoch 47/100\n",
      "77/77 [==============================] - 1s 9ms/step - loss: 1.9672 - mae: 2.4183 - lr: 0.0200\n",
      "Epoch 48/100\n",
      "77/77 [==============================] - 1s 9ms/step - loss: 1.8676 - mae: 2.3189 - lr: 0.0224\n",
      "Epoch 49/100\n",
      "77/77 [==============================] - 1s 9ms/step - loss: 1.8941 - mae: 2.3472 - lr: 0.0251\n",
      "Epoch 50/100\n",
      "77/77 [==============================] - 1s 9ms/step - loss: 1.7949 - mae: 2.2409 - lr: 0.0282\n",
      "Epoch 51/100\n",
      "77/77 [==============================] - 1s 9ms/step - loss: 1.7851 - mae: 2.2353 - lr: 0.0316\n",
      "Epoch 52/100\n",
      "77/77 [==============================] - 1s 8ms/step - loss: 1.8676 - mae: 2.3203 - lr: 0.0355\n",
      "Epoch 53/100\n",
      "77/77 [==============================] - 1s 9ms/step - loss: 2.0225 - mae: 2.4805 - lr: 0.0398\n",
      "Epoch 54/100\n",
      "77/77 [==============================] - 1s 9ms/step - loss: 1.8142 - mae: 2.2674 - lr: 0.0447\n",
      "Epoch 55/100\n",
      "77/77 [==============================] - 1s 9ms/step - loss: 1.7939 - mae: 2.2464 - lr: 0.0501\n",
      "Epoch 56/100\n",
      "77/77 [==============================] - 1s 8ms/step - loss: 1.7281 - mae: 2.1777 - lr: 0.0562\n",
      "Epoch 57/100\n",
      "77/77 [==============================] - 1s 9ms/step - loss: 1.9418 - mae: 2.3922 - lr: 0.0631\n",
      "Epoch 58/100\n",
      "77/77 [==============================] - 1s 9ms/step - loss: 2.0194 - mae: 2.4740 - lr: 0.0708\n",
      "Epoch 59/100\n",
      "77/77 [==============================] - 1s 9ms/step - loss: 2.4199 - mae: 2.8805 - lr: 0.0794\n",
      "Epoch 60/100\n",
      "77/77 [==============================] - 1s 9ms/step - loss: 2.1092 - mae: 2.5667 - lr: 0.0891\n",
      "Epoch 61/100\n",
      "77/77 [==============================] - 1s 9ms/step - loss: 2.5736 - mae: 3.0389 - lr: 0.1000\n",
      "Epoch 62/100\n",
      "77/77 [==============================] - 1s 9ms/step - loss: 2.7247 - mae: 3.1917 - lr: 0.1122\n",
      "Epoch 63/100\n",
      "77/77 [==============================] - 1s 9ms/step - loss: 2.7221 - mae: 3.1877 - lr: 0.1259\n",
      "Epoch 64/100\n",
      "77/77 [==============================] - 1s 9ms/step - loss: 2.7230 - mae: 3.1883 - lr: 0.1413\n",
      "Epoch 65/100\n",
      "77/77 [==============================] - 1s 9ms/step - loss: 2.7383 - mae: 3.2037 - lr: 0.1585\n",
      "Epoch 66/100\n",
      "77/77 [==============================] - 1s 9ms/step - loss: 2.7466 - mae: 3.2146 - lr: 0.1778\n",
      "Epoch 67/100\n",
      "77/77 [==============================] - 1s 9ms/step - loss: 2.7290 - mae: 3.1952 - lr: 0.1995\n",
      "Epoch 68/100\n",
      "77/77 [==============================] - 1s 9ms/step - loss: 2.7342 - mae: 3.2010 - lr: 0.2239\n",
      "Epoch 69/100\n",
      "77/77 [==============================] - 1s 9ms/step - loss: 2.7247 - mae: 3.1903 - lr: 0.2512\n",
      "Epoch 70/100\n",
      "77/77 [==============================] - 1s 9ms/step - loss: 2.7244 - mae: 3.1896 - lr: 0.2818\n",
      "Epoch 71/100\n",
      "77/77 [==============================] - 1s 9ms/step - loss: 2.7348 - mae: 3.2029 - lr: 0.3162\n",
      "Epoch 72/100\n",
      "77/77 [==============================] - 1s 9ms/step - loss: 2.7407 - mae: 3.2064 - lr: 0.3548\n",
      "Epoch 73/100\n",
      "77/77 [==============================] - 1s 9ms/step - loss: 2.7334 - mae: 3.2004 - lr: 0.3981\n",
      "Epoch 74/100\n",
      "77/77 [==============================] - 1s 9ms/step - loss: 2.7490 - mae: 3.2166 - lr: 0.4467\n",
      "Epoch 75/100\n",
      "77/77 [==============================] - 1s 9ms/step - loss: 2.7673 - mae: 3.2379 - lr: 0.5012\n",
      "Epoch 76/100\n",
      "77/77 [==============================] - 1s 9ms/step - loss: 2.7733 - mae: 3.2409 - lr: 0.5623\n",
      "Epoch 77/100\n",
      "77/77 [==============================] - 1s 9ms/step - loss: 2.7892 - mae: 3.2600 - lr: 0.6310\n",
      "Epoch 78/100\n",
      "77/77 [==============================] - 1s 9ms/step - loss: 2.7467 - mae: 3.2142 - lr: 0.7079\n",
      "Epoch 79/100\n",
      "77/77 [==============================] - 1s 9ms/step - loss: 2.7496 - mae: 3.2142 - lr: 0.7943\n",
      "Epoch 80/100\n",
      "77/77 [==============================] - 1s 9ms/step - loss: 2.7806 - mae: 3.2475 - lr: 0.8913\n",
      "Epoch 81/100\n",
      "77/77 [==============================] - 1s 9ms/step - loss: 2.7810 - mae: 3.2488 - lr: 1.0000\n",
      "Epoch 82/100\n",
      "77/77 [==============================] - 1s 9ms/step - loss: 2.7694 - mae: 3.2364 - lr: 1.1220\n",
      "Epoch 83/100\n",
      "77/77 [==============================] - 1s 9ms/step - loss: 2.8390 - mae: 3.3077 - lr: 1.2589\n",
      "Epoch 84/100\n",
      "77/77 [==============================] - 1s 9ms/step - loss: 2.8339 - mae: 3.3003 - lr: 1.4125\n",
      "Epoch 85/100\n",
      "77/77 [==============================] - 1s 9ms/step - loss: 2.9114 - mae: 3.3831 - lr: 1.5849\n",
      "Epoch 86/100\n",
      "77/77 [==============================] - 1s 9ms/step - loss: 2.8379 - mae: 3.3065 - lr: 1.7783\n",
      "Epoch 87/100\n",
      "77/77 [==============================] - 1s 9ms/step - loss: 2.7955 - mae: 3.2645 - lr: 1.9953\n",
      "Epoch 88/100\n",
      "77/77 [==============================] - 1s 9ms/step - loss: 2.7976 - mae: 3.2655 - lr: 2.2387\n",
      "Epoch 89/100\n",
      "77/77 [==============================] - 1s 9ms/step - loss: 2.8678 - mae: 3.3347 - lr: 2.5119\n",
      "Epoch 90/100\n",
      "77/77 [==============================] - 1s 9ms/step - loss: 2.9219 - mae: 3.3922 - lr: 2.8184\n",
      "Epoch 91/100\n",
      "77/77 [==============================] - 1s 9ms/step - loss: 3.0003 - mae: 3.4679 - lr: 3.1623\n",
      "Epoch 92/100\n",
      "77/77 [==============================] - 1s 9ms/step - loss: 2.8473 - mae: 3.3143 - lr: 3.5481\n",
      "Epoch 93/100\n",
      "77/77 [==============================] - 1s 9ms/step - loss: 3.7382 - mae: 4.2122 - lr: 3.9811\n",
      "Epoch 94/100\n",
      "77/77 [==============================] - 1s 9ms/step - loss: 2.9704 - mae: 3.4403 - lr: 4.4668\n",
      "Epoch 95/100\n",
      "77/77 [==============================] - 1s 9ms/step - loss: 3.0216 - mae: 3.4924 - lr: 5.0119\n",
      "Epoch 96/100\n",
      "77/77 [==============================] - 1s 9ms/step - loss: 3.1649 - mae: 3.6357 - lr: 5.6234\n",
      "Epoch 97/100\n",
      "77/77 [==============================] - 1s 9ms/step - loss: 3.5735 - mae: 4.0472 - lr: 6.3096\n",
      "Epoch 98/100\n",
      "77/77 [==============================] - 1s 9ms/step - loss: 3.2110 - mae: 3.6844 - lr: 7.0795\n",
      "Epoch 99/100\n",
      "77/77 [==============================] - 1s 9ms/step - loss: 3.6315 - mae: 4.1053 - lr: 7.9433\n",
      "Epoch 100/100\n",
      "77/77 [==============================] - 1s 9ms/step - loss: 3.1725 - mae: 3.6442 - lr: 8.9125\n"
     ]
    }
   ],
   "source": [
    "# Run the training with dynamic LR\n",
    "lr_history = adjust_learning_rate(train_set)"
   ]
  },
  {
   "cell_type": "code",
   "execution_count": null,
   "metadata": {
    "id": "vVcKmg7Q_7rD",
    "outputId": "254d2198-f4dc-4123-a982-62479e986734",
    "ExecuteTime": {
     "end_time": "2024-04-01T00:21:51.458753Z",
     "start_time": "2024-04-01T00:21:51.210630100Z"
    }
   },
   "outputs": [
    {
     "data": {
      "text/plain": "(0.0001, 10.0, 0.0, 10.0)"
     },
     "execution_count": 31,
     "metadata": {},
     "output_type": "execute_result"
    },
    {
     "data": {
      "text/plain": "<Figure size 640x480 with 1 Axes>",
      "image/png": "[encoded data removed]"
     },
     "metadata": {},
     "output_type": "display_data"
    }
   ],
   "source": [
    "plt.semilogx(lr_history.history[\"lr\"], lr_history.history[\"loss\"])\n",
    "plt.axis([1e-4, 10, 0, 10])"
   ]
  },
  {
   "cell_type": "markdown",
   "metadata": {
    "id": "nowq7S99zGfG"
   },
   "source": [
    "## Compiling the model\n",
    "Now that you have trained the model while varying the learning rate, it is time to do the actual training that will be used to forecast the time series. For this complete the `create_model` function below.\n",
    "\n",
    "Notice that you are reusing the architecture you defined in the `create_uncompiled_model` earlier. Now you only need to compile this model using the appropriate loss, optimizer (and learning rate).\n",
    "\n",
    "Hints:\n",
    "\n",
    "- The training should be really quick so if you notice that each epoch is taking more than a few seconds, consider trying a different architecture.\n",
    "\n",
    "\n",
    "- If after the first epoch you get an output like this: loss: nan - mae: nan it is very likely that your network is suffering from exploding gradients. This is a common problem if you used SGD as optimizer and set a learning rate that is too high. If you encounter this problem consider lowering the learning rate or using Adam with the default learning rate."
   ]
  },
  {
   "cell_type": "code",
   "execution_count": null,
   "metadata": {
    "id": "fKoLzG6IzGfG",
    "ExecuteTime": {
     "end_time": "2024-04-01T00:21:51.481565100Z",
     "start_time": "2024-04-01T00:21:51.459697Z"
    }
   },
   "outputs": [],
   "source": [
    "def create_model():\n",
    "\n",
    "\n",
    "    model = create_uncompiled_model()\n",
    "\n",
    "    ### START CODE HERE\n",
    "\n",
    "    # model.compile(loss=None,\n",
    "    #               optimizer=None,\n",
    "    #               metrics=[\"mae\"])\n",
    "    optimizer = tf.keras.optimizers.SGD(learning_rate=3e-3,momentum=0.9)\n",
    "\n",
    "    # Compile the model passing in the appropriate loss\n",
    "    model.compile(loss=tf.keras.losses.Huber(),\n",
    "                  optimizer=optimizer,\n",
    "                  metrics=[\"mae\"])\n",
    "\n",
    "\n",
    "    ### END CODE HERE\n",
    "\n",
    "    return model"
   ]
  },
  {
   "cell_type": "code",
   "execution_count": null,
   "metadata": {
    "id": "yNmxnBVrzGfG",
    "outputId": "437d0977-da05-4da0-aa2a-175fe1677a77",
    "ExecuteTime": {
     "end_time": "2024-04-01T00:22:31.273544400Z",
     "start_time": "2024-04-01T00:21:51.475807300Z"
    }
   },
   "outputs": [
    {
     "name": "stdout",
     "output_type": "stream",
     "text": [
      "Epoch 1/50\n",
      "77/77 [==============================] - 2s 9ms/step - loss: 4.5734 - mae: 5.0513\n",
      "Epoch 2/50\n",
      "77/77 [==============================] - 1s 9ms/step - loss: 2.1436 - mae: 2.6045\n",
      "Epoch 3/50\n",
      "77/77 [==============================] - 1s 9ms/step - loss: 1.8352 - mae: 2.2883\n",
      "Epoch 4/50\n",
      "77/77 [==============================] - 1s 9ms/step - loss: 1.8120 - mae: 2.2660\n",
      "Epoch 5/50\n",
      "77/77 [==============================] - 1s 9ms/step - loss: 1.5986 - mae: 2.0457\n",
      "Epoch 6/50\n",
      "77/77 [==============================] - 1s 9ms/step - loss: 1.6202 - mae: 2.0656\n",
      "Epoch 7/50\n",
      "77/77 [==============================] - 1s 9ms/step - loss: 1.6654 - mae: 2.1122\n",
      "Epoch 8/50\n",
      "77/77 [==============================] - 1s 9ms/step - loss: 1.5838 - mae: 2.0308\n",
      "Epoch 9/50\n",
      "77/77 [==============================] - 1s 9ms/step - loss: 1.6056 - mae: 2.0536\n",
      "Epoch 10/50\n",
      "77/77 [==============================] - 1s 9ms/step - loss: 1.6507 - mae: 2.1007\n",
      "Epoch 11/50\n",
      "77/77 [==============================] - 1s 9ms/step - loss: 1.5955 - mae: 2.0448\n",
      "Epoch 12/50\n",
      "77/77 [==============================] - 1s 9ms/step - loss: 1.5876 - mae: 2.0362\n",
      "Epoch 13/50\n",
      "77/77 [==============================] - 1s 9ms/step - loss: 1.5712 - mae: 2.0152\n",
      "Epoch 14/50\n",
      "77/77 [==============================] - 1s 10ms/step - loss: 1.5632 - mae: 2.0053\n",
      "Epoch 15/50\n",
      "77/77 [==============================] - 1s 9ms/step - loss: 1.5272 - mae: 1.9674\n",
      "Epoch 16/50\n",
      "77/77 [==============================] - 1s 9ms/step - loss: 1.5026 - mae: 1.9440\n",
      "Epoch 17/50\n",
      "77/77 [==============================] - 1s 10ms/step - loss: 1.5727 - mae: 2.0178\n",
      "Epoch 18/50\n",
      "77/77 [==============================] - 1s 9ms/step - loss: 1.5964 - mae: 2.0411\n",
      "Epoch 19/50\n",
      "77/77 [==============================] - 1s 9ms/step - loss: 1.5474 - mae: 1.9897\n",
      "Epoch 20/50\n",
      "77/77 [==============================] - 1s 9ms/step - loss: 1.5378 - mae: 1.9807\n",
      "Epoch 21/50\n",
      "77/77 [==============================] - 1s 9ms/step - loss: 1.5092 - mae: 1.9494\n",
      "Epoch 22/50\n",
      "77/77 [==============================] - 1s 9ms/step - loss: 1.5381 - mae: 1.9811\n",
      "Epoch 23/50\n",
      "77/77 [==============================] - 1s 9ms/step - loss: 1.5175 - mae: 1.9600\n",
      "Epoch 24/50\n",
      "77/77 [==============================] - 1s 9ms/step - loss: 1.5215 - mae: 1.9649\n",
      "Epoch 25/50\n",
      "77/77 [==============================] - 1s 9ms/step - loss: 1.5534 - mae: 1.9967\n",
      "Epoch 26/50\n",
      "77/77 [==============================] - 1s 9ms/step - loss: 1.5136 - mae: 1.9557\n",
      "Epoch 27/50\n",
      "77/77 [==============================] - 1s 9ms/step - loss: 1.5302 - mae: 1.9763\n",
      "Epoch 28/50\n",
      "77/77 [==============================] - 1s 9ms/step - loss: 1.5771 - mae: 2.0216\n",
      "Epoch 29/50\n",
      "77/77 [==============================] - 1s 9ms/step - loss: 1.5800 - mae: 2.0218\n",
      "Epoch 30/50\n",
      "77/77 [==============================] - 1s 9ms/step - loss: 1.5268 - mae: 1.9693\n",
      "Epoch 31/50\n",
      "77/77 [==============================] - 1s 9ms/step - loss: 1.5464 - mae: 1.9877\n",
      "Epoch 32/50\n",
      "77/77 [==============================] - 1s 9ms/step - loss: 1.5364 - mae: 1.9801\n",
      "Epoch 33/50\n",
      "77/77 [==============================] - 1s 9ms/step - loss: 1.5042 - mae: 1.9415\n",
      "Epoch 34/50\n",
      "77/77 [==============================] - 1s 9ms/step - loss: 1.5154 - mae: 1.9555\n",
      "Epoch 35/50\n",
      "77/77 [==============================] - 1s 9ms/step - loss: 1.5219 - mae: 1.9603\n",
      "Epoch 36/50\n",
      "77/77 [==============================] - 1s 9ms/step - loss: 1.5041 - mae: 1.9399\n",
      "Epoch 37/50\n",
      "77/77 [==============================] - 1s 10ms/step - loss: 1.5569 - mae: 1.9975\n",
      "Epoch 38/50\n",
      "77/77 [==============================] - 1s 9ms/step - loss: 1.5050 - mae: 1.9435\n",
      "Epoch 39/50\n",
      "77/77 [==============================] - 1s 9ms/step - loss: 1.5005 - mae: 1.9396\n",
      "Epoch 40/50\n",
      "77/77 [==============================] - 1s 9ms/step - loss: 1.5860 - mae: 2.0333\n",
      "Epoch 41/50\n",
      "77/77 [==============================] - 1s 9ms/step - loss: 1.5429 - mae: 1.9878\n",
      "Epoch 42/50\n",
      "77/77 [==============================] - 1s 9ms/step - loss: 1.5164 - mae: 1.9567\n",
      "Epoch 43/50\n",
      "77/77 [==============================] - 1s 9ms/step - loss: 1.5092 - mae: 1.9480\n",
      "Epoch 44/50\n",
      "77/77 [==============================] - 1s 9ms/step - loss: 1.5111 - mae: 1.9501\n",
      "Epoch 45/50\n",
      "77/77 [==============================] - 1s 9ms/step - loss: 1.5663 - mae: 2.0111\n",
      "Epoch 46/50\n",
      "77/77 [==============================] - 1s 9ms/step - loss: 1.5089 - mae: 1.9494\n",
      "Epoch 47/50\n",
      "77/77 [==============================] - 1s 9ms/step - loss: 1.5038 - mae: 1.9445\n",
      "Epoch 48/50\n",
      "77/77 [==============================] - 1s 9ms/step - loss: 1.5158 - mae: 1.9572\n",
      "Epoch 49/50\n",
      "77/77 [==============================] - 1s 9ms/step - loss: 1.5247 - mae: 1.9643\n",
      "Epoch 50/50\n",
      "77/77 [==============================] - 1s 9ms/step - loss: 1.5137 - mae: 1.9557\n"
     ]
    }
   ],
   "source": [
    "# Save an instance of the model\n",
    "model = create_model()\n",
    "\n",
    "# Train it\n",
    "history = model.fit(train_set, epochs=50)"
   ]
  },
  {
   "cell_type": "markdown",
   "metadata": {
    "id": "gZQvbMOqzGfG"
   },
   "source": [
    "## Evaluating the forecast\n",
    "\n",
    "Now it is time to evaluate the performance of the forecast. For this you can use the `compute_metrics` function that you coded in a previous assignment:"
   ]
  },
  {
   "cell_type": "code",
   "execution_count": null,
   "metadata": {
    "id": "_TXc8pLjzGfG",
    "ExecuteTime": {
     "end_time": "2024-04-01T00:22:31.297298800Z",
     "start_time": "2024-04-01T00:22:31.275623600Z"
    }
   },
   "outputs": [],
   "source": [
    "def compute_metrics(true_series, forecast):\n",
    "\n",
    "    mse = tf.keras.metrics.mean_squared_error(true_series, forecast).numpy()\n",
    "    mae = tf.keras.metrics.mean_absolute_error(true_series, forecast).numpy()\n",
    "\n",
    "    return mse, mae"
   ]
  },
  {
   "cell_type": "markdown",
   "metadata": {
    "id": "JXPPDiOLzGfG"
   },
   "source": [
    "At this point only the model that will perform the forecast is ready but you still need to compute the actual forecast.\n",
    "\n"
   ]
  },
  {
   "cell_type": "markdown",
   "metadata": {
    "id": "lEpTcoVMzGfG"
   },
   "source": [
    "## Faster model forecasts\n",
    "\n",
    "In the previous week you saw a faster approach compared to using a for loop to compute the forecasts for every point in the sequence. Remember that this faster approach uses batches of data.\n",
    "\n",
    "The code to implement this is provided in the `model_forecast` below. Notice that the code is very similar to the one in the `windowed_dataset` function with the differences that:\n",
    "- The dataset is windowed using `window_size` rather than `window_size + 1`\n",
    "- No shuffle should be used\n",
    "- No need to split the data into features and labels\n",
    "- A model is used to predict batches of the dataset"
   ]
  },
  {
   "cell_type": "code",
   "execution_count": null,
   "metadata": {
    "id": "4XwGrf-A_wF0",
    "ExecuteTime": {
     "end_time": "2024-04-01T00:22:31.305304400Z",
     "start_time": "2024-04-01T00:22:31.291486800Z"
    }
   },
   "outputs": [],
   "source": [
    "def model_forecast(model, series, window_size):\n",
    "    ds = tf.data.Dataset.from_tensor_slices(series)\n",
    "    ds = ds.window(window_size, shift=1, drop_remainder=True)\n",
    "    ds = ds.flat_map(lambda w: w.batch(window_size))\n",
    "    ds = ds.batch(32).prefetch(1)\n",
    "    forecast = model.predict(ds)\n",
    "    return forecast"
   ]
  },
  {
   "cell_type": "markdown",
   "metadata": {
    "id": "7aZ6ktFWzGfH"
   },
   "source": [
    "Now compute the actual forecast:\n",
    "\n",
    "**Note:** Don't modify the cell below.\n",
    "\n",
    "The grader uses the same slicing to get the forecast so if you change the cell below you risk having issues when submitting your model for grading."
   ]
  },
  {
   "cell_type": "markdown",
   "source": [
    "## use blw to forecast"
   ],
   "metadata": {
    "collapsed": false,
    "id": "8YyAwTus-ZUO"
   }
  },
  {
   "cell_type": "code",
   "outputs": [
    {
     "name": "stdout",
     "output_type": "stream",
     "text": [
      "36/36 [==============================] - 0s 4ms/step\n",
      "ours_forecasted.shape (1150, 1)\n",
      "ours_forecasted[:5] [[10.571054]\n",
      " [ 9.880585]\n",
      " [10.78812 ]\n",
      " [11.543207]\n",
      " [ 9.82802 ]]\n",
      "ours_forecasted_sqz.shape (1150,)\n",
      "ours_forecasted_sqz[:5] [10.571054  9.880585 10.78812  11.543207  9.82802 ]\n"
     ]
    },
    {
     "data": {
      "text/plain": "<Figure size 1000x600 with 1 Axes>",
      "image/png": "[encoded data removed]"
     },
     "metadata": {},
     "output_type": "display_data"
    }
   ],
   "source": [
    "ours_xval_series = G.SERIES[G.SPLIT_TIME-G.WINDOW_SIZE:-1]\n",
    "ours_forecasted=model_forecast(model, ours_xval_series, G.WINDOW_SIZE)\n",
    "print('ours_forecasted.shape',ours_forecasted.shape)\n",
    "print('ours_forecasted[:5]',ours_forecasted[:5])\n",
    "ours_forecasted_sqz=ours_forecasted.squeeze()\n",
    "print('ours_forecasted_sqz.shape',ours_forecasted_sqz.shape)\n",
    "print('ours_forecasted_sqz[:5]',ours_forecasted_sqz[:5])\n",
    "\n",
    "# Plot the forecast\n",
    "plt.figure(figsize=(10, 6))\n",
    "plot_series(time_valid, series_valid)\n",
    "plot_series(time_valid, ours_forecasted_sqz)"
   ],
   "metadata": {
    "id": "xX6Q6trj-ZUO",
    "outputId": "0de0c114-360c-44ce-94c1-9ca353c85622",
    "ExecuteTime": {
     "end_time": "2024-04-01T00:22:31.872309100Z",
     "start_time": "2024-04-01T00:22:31.306383800Z"
    }
   },
   "execution_count": null
  },
  {
   "cell_type": "markdown",
   "source": [
    "## blw also gives same result always like above"
   ],
   "metadata": {
    "collapsed": false,
    "id": "bXl4D1HR-ZUO"
   }
  },
  {
   "cell_type": "code",
   "execution_count": null,
   "metadata": {
    "id": "PrktQX3hKYex",
    "ExecuteTime": {
     "end_time": "2024-04-01T00:22:31.907615700Z",
     "start_time": "2024-04-01T00:22:31.873824700Z"
    }
   },
   "outputs": [],
   "source": [
    "# # Compute the forecast for all the series\n",
    "# rnn_forecast = model_forecast(model, G.SERIES, G.WINDOW_SIZE).squeeze()\n",
    "#\n",
    "# # Slice the forecast to get only the predictions for the validation set\n",
    "# rnn_forecast = rnn_forecast[G.SPLIT_TIME - G.WINDOW_SIZE:-1]\n",
    "#\n",
    "# print('rnn_forecast.shape',rnn_forecast.shape)\n",
    "# print('rnn_forecast[:5]',rnn_forecast[:5])\n",
    "#\n",
    "# np.allclose(rnn_forecast,ours_forecasted_sqz)\n",
    "# # # Plot the forecast\n",
    "# # plt.figure(figsize=(10, 6))\n",
    "# # plot_series(time_valid, series_valid)\n",
    "# # plot_series(time_valid, rnn_forecast)"
   ]
  },
  {
   "cell_type": "code",
   "execution_count": null,
   "metadata": {
    "id": "iMQ7YvfdzGfH",
    "outputId": "9258942e-c87a-4c0d-f116-fa51fbdc3d07",
    "ExecuteTime": {
     "end_time": "2024-04-01T00:22:31.908752600Z",
     "start_time": "2024-04-01T00:22:31.892172900Z"
    }
   },
   "outputs": [
    {
     "name": "stdout",
     "output_type": "stream",
     "text": [
      "mse: 8.65, mae: 2.35 for forecast\n"
     ]
    }
   ],
   "source": [
    "mse, mae = compute_metrics(series_valid, ours_forecasted_sqz)\n",
    "\n",
    "print(f\"mse: {mse:.2f}, mae: {mae:.2f} for forecast\")"
   ]
  },
  {
   "cell_type": "code",
   "outputs": [
    {
     "data": {
      "text/plain": "{'mae': 2.3465104,\n 'mse': 8.645832,\n 'rmse': 2.9403796,\n 'mape': 21.209625,\n 'mase': 1.1662517}"
     },
     "execution_count": 109,
     "metadata": {},
     "output_type": "execute_result"
    }
   ],
   "source": [
    "rslt_con_lstm=evaluate_preds(series_valid,ours_forecasted_sqz)\n",
    "rslt_con_lstm"
   ],
   "metadata": {
    "ExecuteTime": {
     "end_time": "2024-04-01T03:20:12.452630700Z",
     "start_time": "2024-04-01T03:20:12.440310500Z"
    },
    "id": "a4O-lccyruZC",
    "outputId": "55af0b6a-3d71-482c-8526-b113a57903f8"
   },
   "execution_count": null
  },
  {
   "cell_type": "code",
   "outputs": [],
   "source": [
    "def create_uncompiled_model_RNN():\n",
    "\n",
    "    ### START CODE HERE\n",
    "\n",
    "    # model = tf.keras.models.Sequential([\n",
    "    #   tf.keras.layers.Conv1D(filters=64, kernel_size=3,\n",
    "    #                       strides=1,\n",
    "    #                       activation=\"relu\",\n",
    "    #                       padding='causal',\n",
    "    #                       input_shape=[None, 1]),\n",
    "    #   tf.keras.layers.LSTM(64, return_sequences=True),\n",
    "    #   tf.keras.layers.LSTM(64),\n",
    "    #   tf.keras.layers.Dense(30, activation=\"relu\"),\n",
    "    #   tf.keras.layers.Dense(10, activation=\"relu\"),\n",
    "    #   tf.keras.layers.Dense(1),\n",
    "    # ])\n",
    "\n",
    "    # tf.random.set_seed(42)  # extra code – ensures reproducibility\n",
    "    model_RNN=tf.keras.Sequential([\n",
    "        tf.keras.layers.SimpleRNN(64, return_sequences=True, input_shape=[None,1]),\n",
    "        tf.keras.layers.SimpleRNN(64),\n",
    "        tf.keras.layers.Dense(32,activation=\"relu\"),\n",
    "        tf.keras.layers.Dense(10,activation=\"relu\"),\n",
    "        tf.keras.layers.Dense(1)\n",
    "    ])\n",
    "\n",
    "    # tf.random.set_seed(42)  # extra code – ensures reproducibility\n",
    "    # model=tf.keras.Sequential([\n",
    "    #     tf.keras.layers.SimpleRNN(64, return_sequences=True, input_shape=[None, 1]),\n",
    "    #     tf.keras.layers.SimpleRNN(32),\n",
    "    #     tf.keras.layers.Dense(1)\n",
    "    #     # equivalent: tf.keras.layers.TimeDistributed(tf.keras.layers.Dense(14))\n",
    "    #     # also equivalent: tf.keras.layers.Conv1D(14, kernel_size=1)\n",
    "    # ])\n",
    "\n",
    "\n",
    "\n",
    "\n",
    "    ### END CODE HERE\n",
    "\n",
    "    return model_RNN"
   ],
   "metadata": {
    "id": "v8wLSoLi-nlo",
    "ExecuteTime": {
     "end_time": "2024-04-01T01:50:47.620681300Z",
     "start_time": "2024-04-01T01:50:47.597094800Z"
    }
   },
   "execution_count": null
  },
  {
   "cell_type": "code",
   "execution_count": null,
   "metadata": {
    "colab": {
     "base_uri": "https://localhost:8080/"
    },
    "outputId": "598c700a-cdc0-4392-bb53-5a253d598135",
    "id": "FMhlG_yi-nlo",
    "ExecuteTime": {
     "end_time": "2024-04-01T01:50:56.466022100Z",
     "start_time": "2024-04-01T01:50:55.363657300Z"
    }
   },
   "outputs": [
    {
     "name": "stdout",
     "output_type": "stream",
     "text": [
      "77/77 [==============================] - 1s 11ms/step\n",
      "Your current architecture is compatible with the windowed dataset! :)\n"
     ]
    }
   ],
   "source": [
    "\n",
    "# Test your uncompiled model\n",
    "uncompiled_model_RNN = create_uncompiled_model_RNN()\n",
    "\n",
    "try:\n",
    "    uncompiled_model_RNN.predict(train_set)\n",
    "except:\n",
    "    print(\"Your current architecture is incompatible with the windowed dataset, try adjusting it.\")\n",
    "else:\n",
    "    print(\"Your current architecture is compatible with the windowed dataset! :)\")"
   ]
  },
  {
   "cell_type": "markdown",
   "metadata": {
    "id": "Ij21tu3T-nlp"
   },
   "source": [
    "## Adjusting the learning rate - (Optional Exercise)\n",
    "\n",
    "As you saw in the lecture you can leverage Tensorflow's callbacks to dinamically vary the learning rate during training. This can be helpful to get a better sense of which learning rate better acommodates to the problem at hand.\n",
    "\n",
    "**Notice that this is only changing the learning rate during the training process to give you an idea of what a reasonable learning rate is and should not be confused with selecting the best learning rate, this is known as hyperparameter optimization and it is outside the scope of this course.**\n",
    "\n",
    "For the optimizers you can try out:\n",
    "\n",
    "- tf.keras.optimizers.Adam\n",
    "- tf.keras.optimizers.SGD with a momentum of 0.9"
   ]
  },
  {
   "cell_type": "code",
   "execution_count": null,
   "metadata": {
    "id": "0DOthLzw-nlp",
    "ExecuteTime": {
     "end_time": "2024-04-01T01:51:37.404486600Z",
     "start_time": "2024-04-01T01:51:37.384013100Z"
    }
   },
   "outputs": [],
   "source": [
    "def adjust_learning_rate(dataset):\n",
    "\n",
    "    model_RNN = create_uncompiled_model_RNN()\n",
    "\n",
    "    lr_schedule = tf.keras.callbacks.LearningRateScheduler(lambda epoch: 1e-4 * 10**(epoch / 20))\n",
    "\n",
    "    ### START CODE HERE\n",
    "\n",
    "    # Select your optimizer\n",
    "    optimizer = tf.keras.optimizers.SGD(momentum=0.9)\n",
    "\n",
    "    # Compile the model passing in the appropriate loss\n",
    "    model_RNN.compile(loss=tf.keras.losses.Huber(),\n",
    "                  optimizer=optimizer,\n",
    "                  metrics=[\"mae\"])\n",
    "\n",
    "    ### END CODE HERE\n",
    "\n",
    "    history = model_RNN.fit(dataset, epochs=100, callbacks=[lr_schedule])\n",
    "\n",
    "    return history"
   ]
  },
  {
   "cell_type": "code",
   "execution_count": null,
   "metadata": {
    "colab": {
     "base_uri": "https://localhost:8080/",
     "height": 495
    },
    "outputId": "af8f2d12-3733-4494-cca7-de67ff8588e9",
    "id": "rKcylHGq-nlp",
    "ExecuteTime": {
     "end_time": "2024-04-01T02:04:04.789423600Z",
     "start_time": "2024-04-01T01:51:38.036767100Z"
    }
   },
   "outputs": [
    {
     "name": "stdout",
     "output_type": "stream",
     "text": [
      "Epoch 1/100\n",
      "77/77 [==============================] - 5s 50ms/step - loss: 7.7016 - mae: 8.1975 - lr: 1.0000e-04\n",
      "Epoch 2/100\n",
      "77/77 [==============================] - 4s 47ms/step - loss: 2.6493 - mae: 3.1137 - lr: 1.1220e-04\n",
      "Epoch 3/100\n",
      "77/77 [==============================] - 4s 48ms/step - loss: 1.9376 - mae: 2.3905 - lr: 1.2589e-04\n",
      "Epoch 4/100\n",
      "77/77 [==============================] - 5s 69ms/step - loss: 1.6571 - mae: 2.1019 - lr: 1.4125e-04\n",
      "Epoch 5/100\n",
      "77/77 [==============================] - 10s 130ms/step - loss: 1.5822 - mae: 2.0280 - lr: 1.5849e-04\n",
      "Epoch 6/100\n",
      "77/77 [==============================] - 9s 121ms/step - loss: 1.5516 - mae: 1.9952 - lr: 1.7783e-04\n",
      "Epoch 7/100\n",
      "77/77 [==============================] - 10s 123ms/step - loss: 1.5301 - mae: 1.9716 - lr: 1.9953e-04\n",
      "Epoch 8/100\n",
      "77/77 [==============================] - 10s 130ms/step - loss: 1.5358 - mae: 1.9786 - lr: 2.2387e-04\n",
      "Epoch 9/100\n",
      "77/77 [==============================] - 10s 132ms/step - loss: 1.5009 - mae: 1.9404 - lr: 2.5119e-04\n",
      "Epoch 10/100\n",
      "77/77 [==============================] - 11s 144ms/step - loss: 1.5235 - mae: 1.9655 - lr: 2.8184e-04\n",
      "Epoch 11/100\n",
      "77/77 [==============================] - 11s 148ms/step - loss: 1.5266 - mae: 1.9697 - lr: 3.1623e-04\n",
      "Epoch 12/100\n",
      "77/77 [==============================] - 11s 144ms/step - loss: 1.5102 - mae: 1.9494 - lr: 3.5481e-04\n",
      "Epoch 13/100\n",
      "77/77 [==============================] - 12s 151ms/step - loss: 1.5577 - mae: 1.9982 - lr: 3.9811e-04\n",
      "Epoch 14/100\n",
      "77/77 [==============================] - 10s 124ms/step - loss: 1.5288 - mae: 1.9696 - lr: 4.4668e-04\n",
      "Epoch 15/100\n",
      "77/77 [==============================] - 11s 140ms/step - loss: 1.5366 - mae: 1.9804 - lr: 5.0119e-04\n",
      "Epoch 16/100\n",
      "77/77 [==============================] - 11s 144ms/step - loss: 1.5209 - mae: 1.9614 - lr: 5.6234e-04\n",
      "Epoch 17/100\n",
      "77/77 [==============================] - 10s 133ms/step - loss: 1.4936 - mae: 1.9341 - lr: 6.3096e-04\n",
      "Epoch 18/100\n",
      "77/77 [==============================] - 10s 132ms/step - loss: 1.5034 - mae: 1.9417 - lr: 7.0795e-04\n",
      "Epoch 19/100\n",
      "77/77 [==============================] - 10s 132ms/step - loss: 1.5207 - mae: 1.9633 - lr: 7.9433e-04\n",
      "Epoch 20/100\n",
      "77/77 [==============================] - 11s 137ms/step - loss: 1.5010 - mae: 1.9444 - lr: 8.9125e-04\n",
      "Epoch 21/100\n",
      "77/77 [==============================] - 7s 94ms/step - loss: 1.5187 - mae: 1.9634 - lr: 0.0010\n",
      "Epoch 22/100\n",
      "77/77 [==============================] - 4s 56ms/step - loss: 1.5510 - mae: 1.9947 - lr: 0.0011\n",
      "Epoch 23/100\n",
      "77/77 [==============================] - 8s 103ms/step - loss: 1.5115 - mae: 1.9535 - lr: 0.0013\n",
      "Epoch 24/100\n",
      "77/77 [==============================] - 5s 63ms/step - loss: 1.5394 - mae: 1.9781 - lr: 0.0014\n",
      "Epoch 25/100\n",
      "77/77 [==============================] - 6s 82ms/step - loss: 1.5526 - mae: 1.9979 - lr: 0.0016\n",
      "Epoch 26/100\n",
      "77/77 [==============================] - 11s 145ms/step - loss: 1.5640 - mae: 2.0131 - lr: 0.0018\n",
      "Epoch 27/100\n",
      "77/77 [==============================] - 11s 143ms/step - loss: 1.5271 - mae: 1.9715 - lr: 0.0020\n",
      "Epoch 28/100\n",
      "77/77 [==============================] - 10s 125ms/step - loss: 1.5903 - mae: 2.0327 - lr: 0.0022\n",
      "Epoch 29/100\n",
      "77/77 [==============================] - 9s 111ms/step - loss: 1.5041 - mae: 1.9469 - lr: 0.0025\n",
      "Epoch 30/100\n",
      "77/77 [==============================] - 5s 59ms/step - loss: 1.6000 - mae: 2.0442 - lr: 0.0028\n",
      "Epoch 31/100\n",
      "77/77 [==============================] - 8s 108ms/step - loss: 1.5580 - mae: 2.0006 - lr: 0.0032\n",
      "Epoch 32/100\n",
      "77/77 [==============================] - 10s 129ms/step - loss: 1.6522 - mae: 2.0971 - lr: 0.0035\n",
      "Epoch 33/100\n",
      "77/77 [==============================] - 10s 134ms/step - loss: 1.5989 - mae: 2.0473 - lr: 0.0040\n",
      "Epoch 34/100\n",
      "77/77 [==============================] - 10s 126ms/step - loss: 1.5906 - mae: 2.0347 - lr: 0.0045\n",
      "Epoch 35/100\n",
      "77/77 [==============================] - 10s 128ms/step - loss: 1.6523 - mae: 2.0955 - lr: 0.0050\n",
      "Epoch 36/100\n",
      "77/77 [==============================] - 10s 130ms/step - loss: 1.6674 - mae: 2.1134 - lr: 0.0056\n",
      "Epoch 37/100\n",
      "77/77 [==============================] - 10s 126ms/step - loss: 1.7303 - mae: 2.1815 - lr: 0.0063\n",
      "Epoch 38/100\n",
      "77/77 [==============================] - 10s 126ms/step - loss: 1.7044 - mae: 2.1493 - lr: 0.0071\n",
      "Epoch 39/100\n",
      "77/77 [==============================] - 10s 123ms/step - loss: 1.8004 - mae: 2.2527 - lr: 0.0079\n",
      "Epoch 40/100\n",
      "77/77 [==============================] - 9s 120ms/step - loss: 1.7909 - mae: 2.2412 - lr: 0.0089\n",
      "Epoch 41/100\n",
      "77/77 [==============================] - 11s 136ms/step - loss: 1.7566 - mae: 2.2076 - lr: 0.0100\n",
      "Epoch 42/100\n",
      "77/77 [==============================] - 9s 121ms/step - loss: 1.8976 - mae: 2.3503 - lr: 0.0112\n",
      "Epoch 43/100\n",
      "77/77 [==============================] - 10s 129ms/step - loss: 1.7573 - mae: 2.2041 - lr: 0.0126\n",
      "Epoch 44/100\n",
      "77/77 [==============================] - 10s 127ms/step - loss: 1.8357 - mae: 2.2899 - lr: 0.0141\n",
      "Epoch 45/100\n",
      "77/77 [==============================] - 9s 121ms/step - loss: 1.7168 - mae: 2.1629 - lr: 0.0158\n",
      "Epoch 46/100\n",
      "77/77 [==============================] - 10s 130ms/step - loss: 2.1129 - mae: 2.5714 - lr: 0.0178\n",
      "Epoch 47/100\n",
      "77/77 [==============================] - 10s 128ms/step - loss: 1.9087 - mae: 2.3603 - lr: 0.0200\n",
      "Epoch 48/100\n",
      "77/77 [==============================] - 11s 140ms/step - loss: 2.0469 - mae: 2.5061 - lr: 0.0224\n",
      "Epoch 49/100\n",
      "77/77 [==============================] - 10s 130ms/step - loss: 1.7038 - mae: 2.1542 - lr: 0.0251\n",
      "Epoch 50/100\n",
      "77/77 [==============================] - 11s 137ms/step - loss: 1.8108 - mae: 2.2612 - lr: 0.0282\n",
      "Epoch 51/100\n",
      "77/77 [==============================] - 11s 137ms/step - loss: 1.8332 - mae: 2.2834 - lr: 0.0316\n",
      "Epoch 52/100\n",
      "77/77 [==============================] - 8s 97ms/step - loss: 2.0321 - mae: 2.4907 - lr: 0.0355\n",
      "Epoch 53/100\n",
      "77/77 [==============================] - 4s 55ms/step - loss: 1.8949 - mae: 2.3483 - lr: 0.0398\n",
      "Epoch 54/100\n",
      "77/77 [==============================] - 4s 54ms/step - loss: 2.6112 - mae: 3.0732 - lr: 0.0447\n",
      "Epoch 55/100\n",
      "77/77 [==============================] - 4s 54ms/step - loss: 2.7198 - mae: 3.1864 - lr: 0.0501\n",
      "Epoch 56/100\n",
      "77/77 [==============================] - 4s 54ms/step - loss: 2.7166 - mae: 3.1804 - lr: 0.0562\n",
      "Epoch 57/100\n",
      "77/77 [==============================] - 4s 54ms/step - loss: 2.7249 - mae: 3.1912 - lr: 0.0631\n",
      "Epoch 58/100\n",
      "77/77 [==============================] - 4s 53ms/step - loss: 2.7200 - mae: 3.1861 - lr: 0.0708\n",
      "Epoch 59/100\n",
      "77/77 [==============================] - 4s 57ms/step - loss: 2.7195 - mae: 3.1877 - lr: 0.0794\n",
      "Epoch 60/100\n",
      "77/77 [==============================] - 9s 116ms/step - loss: 2.7271 - mae: 3.1931 - lr: 0.0891\n",
      "Epoch 61/100\n",
      "77/77 [==============================] - 10s 125ms/step - loss: 2.7163 - mae: 3.1820 - lr: 0.1000\n",
      "Epoch 62/100\n",
      "77/77 [==============================] - 10s 132ms/step - loss: 2.7269 - mae: 3.1932 - lr: 0.1122\n",
      "Epoch 63/100\n",
      "77/77 [==============================] - 10s 127ms/step - loss: 2.7315 - mae: 3.1985 - lr: 0.1259\n",
      "Epoch 64/100\n",
      "77/77 [==============================] - 8s 96ms/step - loss: 2.7234 - mae: 3.1897 - lr: 0.1413\n",
      "Epoch 65/100\n",
      "77/77 [==============================] - 5s 60ms/step - loss: 2.7316 - mae: 3.1970 - lr: 0.1585\n",
      "Epoch 66/100\n",
      "77/77 [==============================] - 5s 58ms/step - loss: 2.7299 - mae: 3.1959 - lr: 0.1778\n",
      "Epoch 67/100\n",
      "77/77 [==============================] - 4s 56ms/step - loss: 2.7183 - mae: 3.1856 - lr: 0.1995\n",
      "Epoch 68/100\n",
      "77/77 [==============================] - 5s 59ms/step - loss: 2.7264 - mae: 3.1914 - lr: 0.2239\n",
      "Epoch 69/100\n",
      "77/77 [==============================] - 5s 58ms/step - loss: 2.7312 - mae: 3.1989 - lr: 0.2512\n",
      "Epoch 70/100\n",
      "77/77 [==============================] - 4s 54ms/step - loss: 2.7225 - mae: 3.1892 - lr: 0.2818\n",
      "Epoch 71/100\n",
      "77/77 [==============================] - 4s 57ms/step - loss: 2.7318 - mae: 3.1992 - lr: 0.3162\n",
      "Epoch 72/100\n",
      "77/77 [==============================] - 4s 57ms/step - loss: 2.7355 - mae: 3.2010 - lr: 0.3548\n",
      "Epoch 73/100\n",
      "77/77 [==============================] - 4s 57ms/step - loss: 2.7268 - mae: 3.1928 - lr: 0.3981\n",
      "Epoch 74/100\n",
      "77/77 [==============================] - 4s 56ms/step - loss: 2.7429 - mae: 3.2104 - lr: 0.4467\n",
      "Epoch 75/100\n",
      "77/77 [==============================] - 4s 56ms/step - loss: 2.7265 - mae: 3.1960 - lr: 0.5012\n",
      "Epoch 76/100\n",
      "77/77 [==============================] - 4s 57ms/step - loss: 2.7465 - mae: 3.2125 - lr: 0.5623\n",
      "Epoch 77/100\n",
      "77/77 [==============================] - 4s 56ms/step - loss: 2.7811 - mae: 3.2460 - lr: 0.6310\n",
      "Epoch 78/100\n",
      "77/77 [==============================] - 4s 56ms/step - loss: 2.7658 - mae: 3.2348 - lr: 0.7079\n",
      "Epoch 79/100\n",
      "77/77 [==============================] - 4s 55ms/step - loss: 2.8479 - mae: 3.3166 - lr: 0.7943\n",
      "Epoch 80/100\n",
      "77/77 [==============================] - 4s 57ms/step - loss: 2.7802 - mae: 3.2479 - lr: 0.8913\n",
      "Epoch 81/100\n",
      "77/77 [==============================] - 4s 56ms/step - loss: 2.7977 - mae: 3.2642 - lr: 1.0000\n",
      "Epoch 82/100\n",
      "77/77 [==============================] - 4s 57ms/step - loss: 2.8875 - mae: 3.3597 - lr: 1.1220\n",
      "Epoch 83/100\n",
      "77/77 [==============================] - 5s 58ms/step - loss: 2.8275 - mae: 3.2954 - lr: 1.2589\n",
      "Epoch 84/100\n",
      "77/77 [==============================] - 5s 62ms/step - loss: 2.8373 - mae: 3.3073 - lr: 1.4125\n",
      "Epoch 85/100\n",
      "77/77 [==============================] - 5s 58ms/step - loss: 2.8592 - mae: 3.3288 - lr: 1.5849\n",
      "Epoch 86/100\n",
      "77/77 [==============================] - 5s 60ms/step - loss: 2.8495 - mae: 3.3133 - lr: 1.7783\n",
      "Epoch 87/100\n",
      "77/77 [==============================] - 5s 59ms/step - loss: 2.8257 - mae: 3.2913 - lr: 1.9953\n",
      "Epoch 88/100\n",
      "77/77 [==============================] - 5s 59ms/step - loss: 2.8216 - mae: 3.2896 - lr: 2.2387\n",
      "Epoch 89/100\n",
      "77/77 [==============================] - 5s 59ms/step - loss: 3.0756 - mae: 3.5469 - lr: 2.5119\n",
      "Epoch 90/100\n",
      "77/77 [==============================] - 5s 60ms/step - loss: 3.0149 - mae: 3.4832 - lr: 2.8184\n",
      "Epoch 91/100\n",
      "77/77 [==============================] - 4s 57ms/step - loss: 2.8067 - mae: 3.2761 - lr: 3.1623\n",
      "Epoch 92/100\n",
      "77/77 [==============================] - 4s 55ms/step - loss: 2.9608 - mae: 3.4307 - lr: 3.5481\n",
      "Epoch 93/100\n",
      "77/77 [==============================] - 6s 75ms/step - loss: 3.6538 - mae: 4.1294 - lr: 3.9811\n",
      "Epoch 94/100\n",
      "77/77 [==============================] - 11s 140ms/step - loss: 3.1049 - mae: 3.5785 - lr: 4.4668\n",
      "Epoch 95/100\n",
      "77/77 [==============================] - 10s 123ms/step - loss: 3.0733 - mae: 3.5437 - lr: 5.0119\n",
      "Epoch 96/100\n",
      "77/77 [==============================] - 10s 135ms/step - loss: 3.6133 - mae: 4.0853 - lr: 5.6234\n",
      "Epoch 97/100\n",
      "77/77 [==============================] - 10s 133ms/step - loss: 3.4893 - mae: 3.9633 - lr: 6.3096\n",
      "Epoch 98/100\n",
      "77/77 [==============================] - 7s 89ms/step - loss: 3.4586 - mae: 3.9322 - lr: 7.0795\n",
      "Epoch 99/100\n",
      "77/77 [==============================] - 5s 61ms/step - loss: 3.5078 - mae: 3.9816 - lr: 7.9433\n",
      "Epoch 100/100\n",
      "77/77 [==============================] - 5s 58ms/step - loss: 3.1434 - mae: 3.6114 - lr: 8.9125\n"
     ]
    }
   ],
   "source": [
    "# Run the training with dynamic LR\n",
    "lr_history = adjust_learning_rate(train_set)"
   ]
  },
  {
   "cell_type": "code",
   "execution_count": null,
   "metadata": {
    "outputId": "254d2198-f4dc-4123-a982-62479e986734",
    "id": "Gj3zOgRb-nlq",
    "ExecuteTime": {
     "end_time": "2024-04-01T02:04:53.142362200Z",
     "start_time": "2024-04-01T02:04:52.981528200Z"
    }
   },
   "outputs": [
    {
     "data": {
      "text/plain": "(0.0001, 10.0, 0.0, 10.0)"
     },
     "execution_count": 100,
     "metadata": {},
     "output_type": "execute_result"
    },
    {
     "data": {
      "text/plain": "<Figure size 640x480 with 1 Axes>",
      "image/png": "[encoded data removed]"
     },
     "metadata": {},
     "output_type": "display_data"
    }
   ],
   "source": [
    "plt.semilogx(lr_history.history[\"lr\"], lr_history.history[\"loss\"])\n",
    "plt.axis([1e-4, 10, 0, 10])"
   ]
  },
  {
   "cell_type": "markdown",
   "metadata": {
    "id": "YJwNpZot-nlq"
   },
   "source": [
    "## Compiling the model\n",
    "Now that you have trained the model while varying the learning rate, it is time to do the actual training that will be used to forecast the time series. For this complete the `create_model` function below.\n",
    "\n",
    "Notice that you are reusing the architecture you defined in the `create_uncompiled_model` earlier. Now you only need to compile this model using the appropriate loss, optimizer (and learning rate).\n",
    "\n",
    "Hints:\n",
    "\n",
    "- The training should be really quick so if you notice that each epoch is taking more than a few seconds, consider trying a different architecture.\n",
    "\n",
    "\n",
    "- If after the first epoch you get an output like this: loss: nan - mae: nan it is very likely that your network is suffering from exploding gradients. This is a common problem if you used SGD as optimizer and set a learning rate that is too high. If you encounter this problem consider lowering the learning rate or using Adam with the default learning rate."
   ]
  },
  {
   "cell_type": "code",
   "execution_count": null,
   "metadata": {
    "id": "vvN7TnAc-nlq",
    "ExecuteTime": {
     "end_time": "2024-04-01T02:05:39.916266500Z",
     "start_time": "2024-04-01T02:05:39.896110500Z"
    }
   },
   "outputs": [],
   "source": [
    "def create_model_RNN():\n",
    "\n",
    "\n",
    "    model = create_uncompiled_model_RNN()\n",
    "\n",
    "    ### START CODE HERE\n",
    "\n",
    "    # model.compile(loss=None,\n",
    "    #               optimizer=None,\n",
    "    #               metrics=[\"mae\"])\n",
    "    optimizer = tf.keras.optimizers.SGD(learning_rate=9e-2,momentum=0.9)\n",
    "\n",
    "    # Compile the model passing in the appropriate loss\n",
    "    model.compile(loss=tf.keras.losses.Huber(),\n",
    "                  optimizer=optimizer,\n",
    "                  metrics=[\"mae\"])\n",
    "\n",
    "\n",
    "    ### END CODE HERE\n",
    "\n",
    "    return model"
   ]
  },
  {
   "cell_type": "code",
   "execution_count": null,
   "metadata": {
    "outputId": "437d0977-da05-4da0-aa2a-175fe1677a77",
    "id": "R9VLFKgO-nlq",
    "ExecuteTime": {
     "end_time": "2024-04-01T02:09:24.645002100Z",
     "start_time": "2024-04-01T02:05:40.760809500Z"
    }
   },
   "outputs": [
    {
     "name": "stdout",
     "output_type": "stream",
     "text": [
      "Epoch 1/50\n",
      "77/77 [==============================] - 5s 57ms/step - loss: 4.0923 - mae: 4.5680\n",
      "Epoch 2/50\n",
      "77/77 [==============================] - 4s 55ms/step - loss: 2.7260 - mae: 3.1918\n",
      "Epoch 3/50\n",
      "77/77 [==============================] - 4s 57ms/step - loss: 2.7246 - mae: 3.1908\n",
      "Epoch 4/50\n",
      "77/77 [==============================] - 5s 58ms/step - loss: 2.7244 - mae: 3.1907\n",
      "Epoch 5/50\n",
      "77/77 [==============================] - 4s 56ms/step - loss: 2.7151 - mae: 3.1797\n",
      "Epoch 6/50\n",
      "77/77 [==============================] - 4s 55ms/step - loss: 2.7280 - mae: 3.1962\n",
      "Epoch 7/50\n",
      "77/77 [==============================] - 5s 60ms/step - loss: 2.7164 - mae: 3.1827\n",
      "Epoch 8/50\n",
      "77/77 [==============================] - 4s 54ms/step - loss: 2.7177 - mae: 3.1838\n",
      "Epoch 9/50\n",
      "77/77 [==============================] - 5s 59ms/step - loss: 2.7199 - mae: 3.1854\n",
      "Epoch 10/50\n",
      "77/77 [==============================] - 4s 56ms/step - loss: 2.7177 - mae: 3.1842\n",
      "Epoch 11/50\n",
      "77/77 [==============================] - 4s 57ms/step - loss: 2.7302 - mae: 3.1974\n",
      "Epoch 12/50\n",
      "77/77 [==============================] - 5s 59ms/step - loss: 2.7232 - mae: 3.1874\n",
      "Epoch 13/50\n",
      "77/77 [==============================] - 5s 58ms/step - loss: 2.7162 - mae: 3.1822\n",
      "Epoch 14/50\n",
      "77/77 [==============================] - 5s 59ms/step - loss: 2.7178 - mae: 3.1834\n",
      "Epoch 15/50\n",
      "77/77 [==============================] - 5s 58ms/step - loss: 2.7316 - mae: 3.1969\n",
      "Epoch 16/50\n",
      "77/77 [==============================] - 5s 58ms/step - loss: 2.7158 - mae: 3.1836\n",
      "Epoch 17/50\n",
      "77/77 [==============================] - 5s 58ms/step - loss: 2.7252 - mae: 3.1922\n",
      "Epoch 18/50\n",
      "77/77 [==============================] - 5s 58ms/step - loss: 2.7174 - mae: 3.1837\n",
      "Epoch 19/50\n",
      "77/77 [==============================] - 5s 58ms/step - loss: 2.7214 - mae: 3.1900\n",
      "Epoch 20/50\n",
      "77/77 [==============================] - 4s 56ms/step - loss: 2.7251 - mae: 3.1915\n",
      "Epoch 21/50\n",
      "77/77 [==============================] - 5s 59ms/step - loss: 2.7211 - mae: 3.1880\n",
      "Epoch 22/50\n",
      "77/77 [==============================] - 4s 57ms/step - loss: 2.7229 - mae: 3.1890\n",
      "Epoch 23/50\n",
      "77/77 [==============================] - 4s 55ms/step - loss: 2.7204 - mae: 3.1863\n",
      "Epoch 24/50\n",
      "77/77 [==============================] - 5s 58ms/step - loss: 2.7286 - mae: 3.1941\n",
      "Epoch 25/50\n",
      "77/77 [==============================] - 5s 60ms/step - loss: 2.7165 - mae: 3.1840\n",
      "Epoch 26/50\n",
      "77/77 [==============================] - 4s 57ms/step - loss: 2.7186 - mae: 3.1861\n",
      "Epoch 27/50\n",
      "77/77 [==============================] - 5s 60ms/step - loss: 2.7182 - mae: 3.1839\n",
      "Epoch 28/50\n",
      "77/77 [==============================] - 5s 60ms/step - loss: 2.7224 - mae: 3.1885\n",
      "Epoch 29/50\n",
      "77/77 [==============================] - 5s 59ms/step - loss: 2.7184 - mae: 3.1840\n",
      "Epoch 30/50\n",
      "77/77 [==============================] - 5s 59ms/step - loss: 2.7171 - mae: 3.1845\n",
      "Epoch 31/50\n",
      "77/77 [==============================] - 4s 58ms/step - loss: 2.7221 - mae: 3.1871\n",
      "Epoch 32/50\n",
      "77/77 [==============================] - 5s 59ms/step - loss: 2.7197 - mae: 3.1861\n",
      "Epoch 33/50\n",
      "77/77 [==============================] - 5s 59ms/step - loss: 2.7230 - mae: 3.1895\n",
      "Epoch 34/50\n",
      "77/77 [==============================] - 4s 57ms/step - loss: 2.7145 - mae: 3.1800\n",
      "Epoch 35/50\n",
      "77/77 [==============================] - 5s 59ms/step - loss: 2.7212 - mae: 3.1882\n",
      "Epoch 36/50\n",
      "77/77 [==============================] - 4s 58ms/step - loss: 2.7193 - mae: 3.1859\n",
      "Epoch 37/50\n",
      "77/77 [==============================] - 5s 59ms/step - loss: 2.7219 - mae: 3.1891\n",
      "Epoch 38/50\n",
      "77/77 [==============================] - 5s 60ms/step - loss: 2.7180 - mae: 3.1846\n",
      "Epoch 39/50\n",
      "77/77 [==============================] - 4s 56ms/step - loss: 2.7185 - mae: 3.1845\n",
      "Epoch 40/50\n",
      "77/77 [==============================] - 5s 58ms/step - loss: 2.7174 - mae: 3.1843\n",
      "Epoch 41/50\n",
      "77/77 [==============================] - 5s 58ms/step - loss: 2.7194 - mae: 3.1865\n",
      "Epoch 42/50\n",
      "77/77 [==============================] - 5s 59ms/step - loss: 2.7160 - mae: 3.1801\n",
      "Epoch 43/50\n",
      "77/77 [==============================] - 4s 57ms/step - loss: 2.7218 - mae: 3.1884\n",
      "Epoch 44/50\n",
      "77/77 [==============================] - 4s 52ms/step - loss: 2.7294 - mae: 3.1944\n",
      "Epoch 45/50\n",
      "77/77 [==============================] - 4s 51ms/step - loss: 2.7210 - mae: 3.1878\n",
      "Epoch 46/50\n",
      "77/77 [==============================] - 4s 53ms/step - loss: 2.7261 - mae: 3.1931\n",
      "Epoch 47/50\n",
      "77/77 [==============================] - 4s 53ms/step - loss: 2.7188 - mae: 3.1856\n",
      "Epoch 48/50\n",
      "77/77 [==============================] - 4s 53ms/step - loss: 2.7197 - mae: 3.1866\n",
      "Epoch 49/50\n",
      "77/77 [==============================] - 4s 53ms/step - loss: 2.7299 - mae: 3.1958\n",
      "Epoch 50/50\n",
      "77/77 [==============================] - 4s 56ms/step - loss: 2.7163 - mae: 3.1818\n"
     ]
    }
   ],
   "source": [
    "# Save an instance of the model\n",
    "model_RNN = create_model_RNN()\n",
    "\n",
    "# Train it\n",
    "history = model_RNN.fit(train_set, epochs=50)"
   ]
  },
  {
   "cell_type": "markdown",
   "metadata": {
    "id": "zUqLvT6s-nlq"
   },
   "source": [
    "## Evaluating the forecast\n",
    "\n",
    "Now it is time to evaluate the performance of the forecast. For this you can use the `compute_metrics` function that you coded in a previous assignment:"
   ]
  },
  {
   "cell_type": "code",
   "execution_count": null,
   "metadata": {
    "id": "dxkYn0qU-nlq",
    "ExecuteTime": {
     "end_time": "2024-04-01T01:48:59.829251200Z",
     "start_time": "2024-04-01T01:48:59.811300800Z"
    }
   },
   "outputs": [],
   "source": [
    "# def compute_metrics(true_series, forecast):\n",
    "#\n",
    "#     mse = tf.keras.metrics.mean_squared_error(true_series, forecast).numpy()\n",
    "#     mae = tf.keras.metrics.mean_absolute_error(true_series, forecast).numpy()\n",
    "#\n",
    "#     return mse, mae"
   ]
  },
  {
   "cell_type": "markdown",
   "metadata": {
    "id": "Z7CaYMIt-nlr"
   },
   "source": [
    "At this point only the model that will perform the forecast is ready but you still need to compute the actual forecast.\n",
    "\n"
   ]
  },
  {
   "cell_type": "markdown",
   "metadata": {
    "id": "RNHaLYzW-nlr"
   },
   "source": [
    "## Faster model forecasts\n",
    "\n",
    "In the previous week you saw a faster approach compared to using a for loop to compute the forecasts for every point in the sequence. Remember that this faster approach uses batches of data.\n",
    "\n",
    "The code to implement this is provided in the `model_forecast` below. Notice that the code is very similar to the one in the `windowed_dataset` function with the differences that:\n",
    "- The dataset is windowed using `window_size` rather than `window_size + 1`\n",
    "- No shuffle should be used\n",
    "- No need to split the data into features and labels\n",
    "- A model is used to predict batches of the dataset"
   ]
  },
  {
   "cell_type": "code",
   "execution_count": null,
   "metadata": {
    "id": "kkH8xAce-nlr",
    "ExecuteTime": {
     "end_time": "2024-04-01T01:48:59.839669300Z",
     "start_time": "2024-04-01T01:48:59.827115800Z"
    }
   },
   "outputs": [],
   "source": [
    "# def model_forecast(model, series, window_size):\n",
    "#     ds = tf.data.Dataset.from_tensor_slices(series)\n",
    "#     ds = ds.window(window_size, shift=1, drop_remainder=True)\n",
    "#     ds = ds.flat_map(lambda w: w.batch(window_size))\n",
    "#     ds = ds.batch(32).prefetch(1)\n",
    "#     forecast = model.predict(ds)\n",
    "#     return forecast"
   ]
  },
  {
   "cell_type": "markdown",
   "metadata": {
    "id": "SayMWVPT-nlr"
   },
   "source": [
    "Now compute the actual forecast:\n",
    "\n",
    "**Note:** Don't modify the cell below.\n",
    "\n",
    "The grader uses the same slicing to get the forecast so if you change the cell below you risk having issues when submitting your model for grading."
   ]
  },
  {
   "cell_type": "markdown",
   "source": [
    "## use blw to forecast"
   ],
   "metadata": {
    "collapsed": false,
    "id": "u1keisEk-nlr"
   }
  },
  {
   "cell_type": "markdown",
   "source": [
    "## simple rnn, didnt do great,\n",
    "```\n",
    "36/36 [==============================] - 0s 11ms/step\n",
    "ours_forecasted_rnn.shape (1150, 1)\n",
    "ours_forecasted_rnn[:5] [[10.325488]\n",
    " [10.325488]\n",
    " [10.325488]\n",
    " [10.325488]\n",
    " [10.325488]]\n",
    "ours_forecasted_rnn_sqz.shape (1150,)\n",
    "ours_forecasted_rnn_sqz[:5] [10.325488 10.325488 10.325488 10.325488 10.325488]\n",
    "```"
   ],
   "metadata": {
    "collapsed": false,
    "id": "WTnNGtw4ruZD"
   }
  },
  {
   "cell_type": "code",
   "outputs": [
    {
     "name": "stdout",
     "output_type": "stream",
     "text": [
      "36/36 [==============================] - 0s 11ms/step\n",
      "ours_forecasted_rnn.shape (1150, 1)\n",
      "ours_forecasted_rnn[:5] [[10.325488]\n",
      " [10.325488]\n",
      " [10.325488]\n",
      " [10.325488]\n",
      " [10.325488]]\n",
      "ours_forecasted_rnn_sqz.shape (1150,)\n",
      "ours_forecasted_rnn_sqz[:5] [10.325488 10.325488 10.325488 10.325488 10.325488]\n"
     ]
    },
    {
     "data": {
      "text/plain": "<Figure size 1000x600 with 1 Axes>",
      "image/png": "[encoded data removed]"
     },
     "metadata": {},
     "output_type": "display_data"
    }
   ],
   "source": [
    "ours_xval_series = G.SERIES[G.SPLIT_TIME-G.WINDOW_SIZE:-1]\n",
    "ours_forecasted_rnn=model_forecast(model_RNN, ours_xval_series, G.WINDOW_SIZE)\n",
    "print('ours_forecasted_rnn.shape',ours_forecasted_rnn.shape)\n",
    "print('ours_forecasted_rnn[:5]',ours_forecasted_rnn[:5])\n",
    "ours_forecasted_rnn_sqz=ours_forecasted_rnn.squeeze()\n",
    "print('ours_forecasted_rnn_sqz.shape',ours_forecasted_rnn_sqz.shape)\n",
    "print('ours_forecasted_rnn_sqz[:5]',ours_forecasted_rnn_sqz[:5])\n",
    "\n",
    "# Plot the forecast\n",
    "plt.figure(figsize=(10, 6))\n",
    "plot_series(time_valid, series_valid)\n",
    "plot_series(time_valid, ours_forecasted_rnn_sqz)"
   ],
   "metadata": {
    "outputId": "0de0c114-360c-44ce-94c1-9ca353c85622",
    "id": "WHGcUt7N-nlr",
    "ExecuteTime": {
     "end_time": "2024-04-01T02:09:32.661081800Z",
     "start_time": "2024-04-01T02:09:32.055391800Z"
    }
   },
   "execution_count": null
  },
  {
   "cell_type": "code",
   "source": [
    "# def compute_metrics(true_series, forecast):\n",
    "#\n",
    "#     mse = tf.keras.metrics.mean_squared_error(true_series, forecast).numpy()\n",
    "#     mae = tf.keras.metrics.mean_absolute_error(true_series, forecast).numpy()\n",
    "#\n",
    "#     return mse, mae"
   ],
   "metadata": {
    "id": "IUWiMvKD-tNN",
    "ExecuteTime": {
     "end_time": "2024-04-01T01:49:00.439221Z",
     "start_time": "2024-04-01T01:49:00.410623100Z"
    }
   },
   "execution_count": null,
   "outputs": []
  },
  {
   "cell_type": "markdown",
   "source": [
    "## simple rnn,\n",
    "mse: 8.65, mae: 2.35 for forecast"
   ],
   "metadata": {
    "collapsed": false,
    "id": "zZUP-7wrruZE"
   }
  },
  {
   "cell_type": "code",
   "outputs": [
    {
     "name": "stdout",
     "output_type": "stream",
     "text": [
      "mse: 17.55, mae: 3.40 for forecast\n"
     ]
    }
   ],
   "source": [
    "mse, mae = compute_metrics(series_valid, ours_forecasted_rnn_sqz)\n",
    "\n",
    "print(f\"mse: {mse:.2f}, mae: {mae:.2f} for forecast\")"
   ],
   "metadata": {
    "ExecuteTime": {
     "end_time": "2024-04-01T03:15:59.489565700Z",
     "start_time": "2024-04-01T03:15:59.481578800Z"
    },
    "id": "2VYtt3XRruZE",
    "outputId": "e0d8d1d2-0048-44ff-c920-091514fb0e7e"
   },
   "execution_count": null
  },
  {
   "cell_type": "code",
   "outputs": [
    {
     "data": {
      "text/plain": "{'mae': 3.4018025,\n 'mse': 17.553642,\n 'rmse': 4.189707,\n 'mape': 35.93393,\n 'mase': 1.6907481}"
     },
     "execution_count": 108,
     "metadata": {},
     "output_type": "execute_result"
    }
   ],
   "source": [
    "rslt_simple_rnn=evaluate_preds(series_valid,ours_forecasted_rnn_sqz)\n",
    "rslt_simple_rnn"
   ],
   "metadata": {
    "ExecuteTime": {
     "end_time": "2024-04-01T03:16:29.050589100Z",
     "start_time": "2024-04-01T03:16:29.005362500Z"
    },
    "id": "O8LbQglqruZE",
    "outputId": "54112f61-3ac5-470c-c868-00cbd26d347f"
   },
   "execution_count": null
  },
  {
   "cell_type": "code",
   "outputs": [],
   "source": [
    "from tensorflow.keras import layers,Input,Model"
   ],
   "metadata": {
    "collapsed": false,
    "ExecuteTime": {
     "end_time": "2024-04-01T03:52:05.699377100Z",
     "start_time": "2024-04-01T03:52:05.666945200Z"
    }
   },
   "execution_count": 112
  },
  {
   "cell_type": "code",
   "outputs": [],
   "source": [
    "def mul_four_hundred(ii):\n",
    "    return ii*11\n",
    "    # return tf.math.multiply(ii,400)\n",
    "\n",
    "mul_four_hundred(2)\n",
    "\n",
    "# Build the Model\n",
    "def create_model_no_lmbda_fnc_api_mult():\n",
    "    input_ly = layers.Input(shape=[None, 1])\n",
    "    srnn_ly = layers.SimpleRNN(64, return_sequences=True, input_shape=[None,1])(input_ly)\n",
    "    srnn_ly1 = layers.SimpleRNN(64)(srnn_ly)\n",
    "    den_ly2 = layers.Dense(32, activation=\"relu\")(srnn_ly1)\n",
    "    den_ly3 = layers.Dense(10, activation=\"relu\")(den_ly2)\n",
    "    den_ly4 = layers.Dense(1)(den_ly3)\n",
    "    output_ly = mul_four_hundred(den_ly4)\n",
    "    model_ram_fnc_api = Model(input_ly, output_ly)\n",
    "    return model_ram_fnc_api"
   ],
   "metadata": {
    "id": "HMLeVO3JruZE",
    "ExecuteTime": {
     "end_time": "2024-04-01T03:54:15.786151700Z",
     "start_time": "2024-04-01T03:54:15.753214Z"
    }
   },
   "execution_count": 118
  },
  {
   "cell_type": "code",
   "execution_count": 119,
   "metadata": {
    "colab": {
     "base_uri": "https://localhost:8080/"
    },
    "outputId": "598c700a-cdc0-4392-bb53-5a253d598135",
    "id": "KpEaN1JRsSEJ",
    "ExecuteTime": {
     "end_time": "2024-04-01T03:54:19.111638200Z",
     "start_time": "2024-04-01T03:54:16.927176400Z"
    }
   },
   "outputs": [
    {
     "name": "stdout",
     "output_type": "stream",
     "text": [
      "77/77 [==============================] - 1s 14ms/step\n",
      "Your current architecture is compatible with the windowed dataset! :)\n"
     ]
    }
   ],
   "source": [
    "\n",
    "# Test your uncompiled model\n",
    "uncompiled_model_mul_RNN = create_model_no_lmbda_fnc_api_mult()\n",
    "\n",
    "try:\n",
    "    uncompiled_model_mul_RNN.predict(train_set)\n",
    "except:\n",
    "    print(\"Your current architecture is incompatible with the windowed dataset, try adjusting it.\")\n",
    "else:\n",
    "    print(\"Your current architecture is compatible with the windowed dataset! :)\")"
   ]
  },
  {
   "cell_type": "markdown",
   "metadata": {
    "id": "Ra0OO3mPsSEJ"
   },
   "source": [
    "## Adjusting the learning rate - (Optional Exercise)\n",
    "\n",
    "As you saw in the lecture you can leverage Tensorflow's callbacks to dinamically vary the learning rate during training. This can be helpful to get a better sense of which learning rate better acommodates to the problem at hand.\n",
    "\n",
    "**Notice that this is only changing the learning rate during the training process to give you an idea of what a reasonable learning rate is and should not be confused with selecting the best learning rate, this is known as hyperparameter optimization and it is outside the scope of this course.**\n",
    "\n",
    "For the optimizers you can try out:\n",
    "\n",
    "- tf.keras.optimizers.Adam\n",
    "- tf.keras.optimizers.SGD with a momentum of 0.9"
   ]
  },
  {
   "cell_type": "code",
   "execution_count": 120,
   "metadata": {
    "id": "K-Q1lp_1sSEJ",
    "ExecuteTime": {
     "end_time": "2024-04-01T03:54:21.106638900Z",
     "start_time": "2024-04-01T03:54:21.069049600Z"
    }
   },
   "outputs": [],
   "source": [
    "def adjust_learning_rate(dataset):\n",
    "\n",
    "    model_mul_RNN = create_model_no_lmbda_fnc_api_mult()\n",
    "\n",
    "    lr_schedule = tf.keras.callbacks.LearningRateScheduler(lambda epoch: 1e-4 * 10**(epoch / 20))\n",
    "\n",
    "    ### START CODE HERE\n",
    "\n",
    "    # Select your optimizer\n",
    "    optimizer = tf.keras.optimizers.SGD(momentum=0.9)\n",
    "\n",
    "    # Compile the model passing in the appropriate loss\n",
    "    model_mul_RNN.compile(loss=tf.keras.losses.Huber(),\n",
    "                  optimizer=optimizer,\n",
    "                  metrics=[\"mae\"])\n",
    "\n",
    "    ### END CODE HERE\n",
    "\n",
    "    history = model_mul_RNN.fit(dataset, epochs=100, callbacks=[lr_schedule])\n",
    "\n",
    "    return history"
   ]
  },
  {
   "cell_type": "code",
   "execution_count": 121,
   "metadata": {
    "colab": {
     "base_uri": "https://localhost:8080/",
     "height": 495
    },
    "outputId": "af8f2d12-3733-4494-cca7-de67ff8588e9",
    "id": "y7Xe5x_xsSEJ",
    "ExecuteTime": {
     "end_time": "2024-04-01T04:02:21.877385500Z",
     "start_time": "2024-04-01T03:54:22.083677900Z"
    }
   },
   "outputs": [
    {
     "name": "stdout",
     "output_type": "stream",
     "text": [
      "Epoch 1/100\n",
      "77/77 [==============================] - 7s 80ms/step - loss: 1.8632 - mae: 2.3168 - lr: 1.0000e-04\n",
      "Epoch 2/100\n",
      "77/77 [==============================] - 6s 77ms/step - loss: 1.6126 - mae: 2.0585 - lr: 1.1220e-04\n",
      "Epoch 3/100\n",
      "77/77 [==============================] - 6s 78ms/step - loss: 1.7228 - mae: 2.1730 - lr: 1.2589e-04\n",
      "Epoch 4/100\n",
      "77/77 [==============================] - 6s 77ms/step - loss: 1.5676 - mae: 2.0141 - lr: 1.4125e-04\n",
      "Epoch 5/100\n",
      "77/77 [==============================] - 6s 78ms/step - loss: 1.5907 - mae: 2.0333 - lr: 1.5849e-04\n",
      "Epoch 6/100\n",
      "77/77 [==============================] - 6s 75ms/step - loss: 1.5926 - mae: 2.0391 - lr: 1.7783e-04\n",
      "Epoch 7/100\n",
      "77/77 [==============================] - 6s 78ms/step - loss: 1.5761 - mae: 2.0239 - lr: 1.9953e-04\n",
      "Epoch 8/100\n",
      "77/77 [==============================] - 6s 75ms/step - loss: 1.6338 - mae: 2.0781 - lr: 2.2387e-04\n",
      "Epoch 9/100\n",
      "77/77 [==============================] - 6s 74ms/step - loss: 1.5888 - mae: 2.0305 - lr: 2.5119e-04\n",
      "Epoch 10/100\n",
      "77/77 [==============================] - 6s 75ms/step - loss: 1.5605 - mae: 2.0057 - lr: 2.8184e-04\n",
      "Epoch 11/100\n",
      "77/77 [==============================] - 6s 74ms/step - loss: 1.5282 - mae: 1.9724 - lr: 3.1623e-04\n",
      "Epoch 12/100\n",
      "77/77 [==============================] - 6s 73ms/step - loss: 1.6108 - mae: 2.0553 - lr: 3.5481e-04\n",
      "Epoch 13/100\n",
      "77/77 [==============================] - 6s 74ms/step - loss: 1.5789 - mae: 2.0225 - lr: 3.9811e-04\n",
      "Epoch 14/100\n",
      "77/77 [==============================] - 6s 76ms/step - loss: 1.6097 - mae: 2.0523 - lr: 4.4668e-04\n",
      "Epoch 15/100\n",
      "77/77 [==============================] - 6s 73ms/step - loss: 1.5790 - mae: 2.0245 - lr: 5.0119e-04\n",
      "Epoch 16/100\n",
      "77/77 [==============================] - 6s 76ms/step - loss: 1.5374 - mae: 1.9795 - lr: 5.6234e-04\n",
      "Epoch 17/100\n",
      "77/77 [==============================] - 6s 75ms/step - loss: 1.6557 - mae: 2.1024 - lr: 6.3096e-04\n",
      "Epoch 18/100\n",
      "77/77 [==============================] - 6s 81ms/step - loss: 1.5700 - mae: 2.0100 - lr: 7.0795e-04\n",
      "Epoch 19/100\n",
      "77/77 [==============================] - 6s 79ms/step - loss: 1.5498 - mae: 1.9915 - lr: 7.9433e-04\n",
      "Epoch 20/100\n",
      "77/77 [==============================] - 6s 78ms/step - loss: 1.5236 - mae: 1.9633 - lr: 8.9125e-04\n",
      "Epoch 21/100\n",
      "77/77 [==============================] - 6s 78ms/step - loss: 1.6407 - mae: 2.0850 - lr: 0.0010\n",
      "Epoch 22/100\n",
      "77/77 [==============================] - 6s 75ms/step - loss: 1.5888 - mae: 2.0323 - lr: 0.0011\n",
      "Epoch 23/100\n",
      "77/77 [==============================] - 6s 74ms/step - loss: 1.6769 - mae: 2.1226 - lr: 0.0013\n",
      "Epoch 24/100\n",
      "77/77 [==============================] - 6s 76ms/step - loss: 1.5646 - mae: 2.0084 - lr: 0.0014\n",
      "Epoch 25/100\n",
      "77/77 [==============================] - 6s 75ms/step - loss: 1.5811 - mae: 2.0252 - lr: 0.0016\n",
      "Epoch 26/100\n",
      "77/77 [==============================] - 6s 73ms/step - loss: 1.5759 - mae: 2.0203 - lr: 0.0018\n",
      "Epoch 27/100\n",
      "77/77 [==============================] - 6s 75ms/step - loss: 1.6503 - mae: 2.0940 - lr: 0.0020\n",
      "Epoch 28/100\n",
      "77/77 [==============================] - 6s 75ms/step - loss: 1.6685 - mae: 2.1141 - lr: 0.0022\n",
      "Epoch 29/100\n",
      "77/77 [==============================] - 6s 73ms/step - loss: 1.6177 - mae: 2.0653 - lr: 0.0025\n",
      "Epoch 30/100\n",
      "77/77 [==============================] - 6s 73ms/step - loss: 1.6431 - mae: 2.0897 - lr: 0.0028\n",
      "Epoch 31/100\n",
      "77/77 [==============================] - 6s 77ms/step - loss: 1.6659 - mae: 2.1105 - lr: 0.0032\n",
      "Epoch 32/100\n",
      "77/77 [==============================] - 6s 76ms/step - loss: 1.6661 - mae: 2.1074 - lr: 0.0035\n",
      "Epoch 33/100\n",
      "77/77 [==============================] - 6s 74ms/step - loss: 1.5809 - mae: 2.0272 - lr: 0.0040\n",
      "Epoch 34/100\n",
      "77/77 [==============================] - 6s 73ms/step - loss: 1.6707 - mae: 2.1152 - lr: 0.0045\n",
      "Epoch 35/100\n",
      "77/77 [==============================] - 6s 72ms/step - loss: 1.6803 - mae: 2.1254 - lr: 0.0050\n",
      "Epoch 36/100\n",
      "77/77 [==============================] - 6s 72ms/step - loss: 1.7528 - mae: 2.2019 - lr: 0.0056\n",
      "Epoch 37/100\n",
      "77/77 [==============================] - 6s 81ms/step - loss: 1.6997 - mae: 2.1470 - lr: 0.0063\n",
      "Epoch 38/100\n",
      "77/77 [==============================] - 6s 76ms/step - loss: 1.6998 - mae: 2.1457 - lr: 0.0071\n",
      "Epoch 39/100\n",
      "77/77 [==============================] - 6s 78ms/step - loss: 1.8424 - mae: 2.2927 - lr: 0.0079\n",
      "Epoch 40/100\n",
      "77/77 [==============================] - 6s 75ms/step - loss: 1.8997 - mae: 2.3516 - lr: 0.0089\n",
      "Epoch 41/100\n",
      "77/77 [==============================] - 7s 84ms/step - loss: 1.9343 - mae: 2.3855 - lr: 0.0100\n",
      "Epoch 42/100\n",
      "77/77 [==============================] - 6s 79ms/step - loss: 1.9508 - mae: 2.4032 - lr: 0.0112\n",
      "Epoch 43/100\n",
      "77/77 [==============================] - 6s 77ms/step - loss: 1.8855 - mae: 2.3335 - lr: 0.0126\n",
      "Epoch 44/100\n",
      "77/77 [==============================] - 6s 74ms/step - loss: 3.1117 - mae: 3.5809 - lr: 0.0141\n",
      "Epoch 45/100\n",
      "77/77 [==============================] - 6s 77ms/step - loss: 2.8078 - mae: 3.2745 - lr: 0.0158\n",
      "Epoch 46/100\n",
      "77/77 [==============================] - 6s 75ms/step - loss: 2.8123 - mae: 3.2808 - lr: 0.0178\n",
      "Epoch 47/100\n",
      "77/77 [==============================] - 6s 76ms/step - loss: 2.9439 - mae: 3.4131 - lr: 0.0200\n",
      "Epoch 48/100\n",
      "77/77 [==============================] - 6s 77ms/step - loss: 2.8682 - mae: 3.3349 - lr: 0.0224\n",
      "Epoch 49/100\n",
      "77/77 [==============================] - 5s 70ms/step - loss: 2.8073 - mae: 3.2749 - lr: 0.0251\n",
      "Epoch 50/100\n",
      "77/77 [==============================] - 6s 71ms/step - loss: 2.9442 - mae: 3.4108 - lr: 0.0282\n",
      "Epoch 51/100\n",
      "77/77 [==============================] - 6s 72ms/step - loss: 3.0167 - mae: 3.4887 - lr: 0.0316\n",
      "Epoch 52/100\n",
      "77/77 [==============================] - 6s 76ms/step - loss: 2.8828 - mae: 3.3503 - lr: 0.0355\n",
      "Epoch 53/100\n",
      "77/77 [==============================] - 6s 75ms/step - loss: 3.0255 - mae: 3.4930 - lr: 0.0398\n",
      "Epoch 54/100\n",
      "77/77 [==============================] - 6s 74ms/step - loss: 3.0728 - mae: 3.5429 - lr: 0.0447\n",
      "Epoch 55/100\n",
      "77/77 [==============================] - 6s 71ms/step - loss: 2.9654 - mae: 3.4328 - lr: 0.0501\n",
      "Epoch 56/100\n",
      "77/77 [==============================] - 5s 70ms/step - loss: 3.3227 - mae: 3.7941 - lr: 0.0562\n",
      "Epoch 57/100\n",
      "77/77 [==============================] - 6s 71ms/step - loss: 3.1821 - mae: 3.6531 - lr: 0.0631\n",
      "Epoch 58/100\n",
      "77/77 [==============================] - 6s 76ms/step - loss: 3.2514 - mae: 3.7228 - lr: 0.0708\n",
      "Epoch 59/100\n",
      "77/77 [==============================] - 6s 75ms/step - loss: 3.6050 - mae: 4.0809 - lr: 0.0794\n",
      "Epoch 60/100\n",
      "77/77 [==============================] - 5s 68ms/step - loss: 3.8794 - mae: 4.3544 - lr: 0.0891\n",
      "Epoch 61/100\n",
      "77/77 [==============================] - 5s 68ms/step - loss: 4.6293 - mae: 5.1101 - lr: 0.1000\n",
      "Epoch 62/100\n",
      "77/77 [==============================] - 6s 75ms/step - loss: 4.4165 - mae: 4.8956 - lr: 0.1122\n",
      "Epoch 63/100\n",
      "77/77 [==============================] - 6s 75ms/step - loss: 6.3304 - mae: 6.8170 - lr: 0.1259\n",
      "Epoch 64/100\n",
      "77/77 [==============================] - 6s 77ms/step - loss: 16.9268 - mae: 17.4204 - lr: 0.1413\n",
      "Epoch 65/100\n",
      "77/77 [==============================] - 6s 74ms/step - loss: 5.9826 - mae: 6.4671 - lr: 0.1585\n",
      "Epoch 66/100\n",
      "77/77 [==============================] - 6s 74ms/step - loss: 11.1995 - mae: 11.6901 - lr: 0.1778\n",
      "Epoch 67/100\n",
      "77/77 [==============================] - 6s 76ms/step - loss: 22.5594 - mae: 23.0594 - lr: 0.1995\n",
      "Epoch 68/100\n",
      "77/77 [==============================] - 6s 74ms/step - loss: 25.4823 - mae: 25.9822 - lr: 0.2239\n",
      "Epoch 69/100\n",
      "77/77 [==============================] - 6s 80ms/step - loss: 33.0631 - mae: 33.5591 - lr: 0.2512\n",
      "Epoch 70/100\n",
      "77/77 [==============================] - 6s 81ms/step - loss: 52.5531 - mae: 53.0529 - lr: 0.2818\n",
      "Epoch 71/100\n",
      "77/77 [==============================] - 6s 82ms/step - loss: 58.8757 - mae: 59.3754 - lr: 0.3162\n",
      "Epoch 72/100\n",
      "77/77 [==============================] - 6s 78ms/step - loss: 56.4432 - mae: 56.9421 - lr: 0.3548\n",
      "Epoch 73/100\n",
      "77/77 [==============================] - 6s 76ms/step - loss: 26.6184 - mae: 27.1183 - lr: 0.3981\n",
      "Epoch 74/100\n",
      "77/77 [==============================] - 6s 74ms/step - loss: 27.8477 - mae: 28.3477 - lr: 0.4467\n",
      "Epoch 75/100\n",
      "77/77 [==============================] - 6s 78ms/step - loss: 68.8380 - mae: 69.3357 - lr: 0.5012\n",
      "Epoch 76/100\n",
      "77/77 [==============================] - 6s 76ms/step - loss: 58.9095 - mae: 59.4068 - lr: 0.5623\n",
      "Epoch 77/100\n",
      "77/77 [==============================] - 6s 76ms/step - loss: 89.1008 - mae: 89.5992 - lr: 0.6310\n",
      "Epoch 78/100\n",
      "77/77 [==============================] - 6s 77ms/step - loss: 105.7012 - mae: 106.2007 - lr: 0.7079\n",
      "Epoch 79/100\n",
      "77/77 [==============================] - 6s 76ms/step - loss: 102.6328 - mae: 103.1318 - lr: 0.7943\n",
      "Epoch 80/100\n",
      "77/77 [==============================] - 6s 77ms/step - loss: 102.2268 - mae: 102.7268 - lr: 0.8913\n",
      "Epoch 81/100\n",
      "65/77 [========================>.....] - ETA: 0s - loss: 116.6786 - mae: 117.1786"
     ]
    },
    {
     "ename": "KeyboardInterrupt",
     "evalue": "",
     "output_type": "error",
     "traceback": [
      "\u001B[1;31m---------------------------------------------------------------------------\u001B[0m",
      "\u001B[1;31mKeyboardInterrupt\u001B[0m                         Traceback (most recent call last)",
      "Cell \u001B[1;32mIn[121], line 2\u001B[0m\n\u001B[0;32m      1\u001B[0m \u001B[38;5;66;03m# Run the training with dynamic LR\u001B[39;00m\n\u001B[1;32m----> 2\u001B[0m lr_history \u001B[38;5;241m=\u001B[39m \u001B[43madjust_learning_rate\u001B[49m\u001B[43m(\u001B[49m\u001B[43mtrain_set\u001B[49m\u001B[43m)\u001B[49m\n",
      "Cell \u001B[1;32mIn[120], line 19\u001B[0m, in \u001B[0;36madjust_learning_rate\u001B[1;34m(dataset)\u001B[0m\n\u001B[0;32m     13\u001B[0m model_mul_RNN\u001B[38;5;241m.\u001B[39mcompile(loss\u001B[38;5;241m=\u001B[39mtf\u001B[38;5;241m.\u001B[39mkeras\u001B[38;5;241m.\u001B[39mlosses\u001B[38;5;241m.\u001B[39mHuber(),\n\u001B[0;32m     14\u001B[0m               optimizer\u001B[38;5;241m=\u001B[39moptimizer,\n\u001B[0;32m     15\u001B[0m               metrics\u001B[38;5;241m=\u001B[39m[\u001B[38;5;124m\"\u001B[39m\u001B[38;5;124mmae\u001B[39m\u001B[38;5;124m\"\u001B[39m])\n\u001B[0;32m     17\u001B[0m \u001B[38;5;66;03m### END CODE HERE\u001B[39;00m\n\u001B[1;32m---> 19\u001B[0m history \u001B[38;5;241m=\u001B[39m \u001B[43mmodel_mul_RNN\u001B[49m\u001B[38;5;241;43m.\u001B[39;49m\u001B[43mfit\u001B[49m\u001B[43m(\u001B[49m\u001B[43mdataset\u001B[49m\u001B[43m,\u001B[49m\u001B[43m \u001B[49m\u001B[43mepochs\u001B[49m\u001B[38;5;241;43m=\u001B[39;49m\u001B[38;5;241;43m100\u001B[39;49m\u001B[43m,\u001B[49m\u001B[43m \u001B[49m\u001B[43mcallbacks\u001B[49m\u001B[38;5;241;43m=\u001B[39;49m\u001B[43m[\u001B[49m\u001B[43mlr_schedule\u001B[49m\u001B[43m]\u001B[49m\u001B[43m)\u001B[49m\n\u001B[0;32m     21\u001B[0m \u001B[38;5;28;01mreturn\u001B[39;00m history\n",
      "File \u001B[1;32m~\\.conda\\envs\\scientificProject\\lib\\site-packages\\keras\\utils\\traceback_utils.py:65\u001B[0m, in \u001B[0;36mfilter_traceback.<locals>.error_handler\u001B[1;34m(*args, **kwargs)\u001B[0m\n\u001B[0;32m     63\u001B[0m filtered_tb \u001B[38;5;241m=\u001B[39m \u001B[38;5;28;01mNone\u001B[39;00m\n\u001B[0;32m     64\u001B[0m \u001B[38;5;28;01mtry\u001B[39;00m:\n\u001B[1;32m---> 65\u001B[0m     \u001B[38;5;28;01mreturn\u001B[39;00m fn(\u001B[38;5;241m*\u001B[39margs, \u001B[38;5;241m*\u001B[39m\u001B[38;5;241m*\u001B[39mkwargs)\n\u001B[0;32m     66\u001B[0m \u001B[38;5;28;01mexcept\u001B[39;00m \u001B[38;5;167;01mException\u001B[39;00m \u001B[38;5;28;01mas\u001B[39;00m e:\n\u001B[0;32m     67\u001B[0m     filtered_tb \u001B[38;5;241m=\u001B[39m _process_traceback_frames(e\u001B[38;5;241m.\u001B[39m__traceback__)\n",
      "File \u001B[1;32m~\\.conda\\envs\\scientificProject\\lib\\site-packages\\keras\\engine\\training.py:1564\u001B[0m, in \u001B[0;36mModel.fit\u001B[1;34m(self, x, y, batch_size, epochs, verbose, callbacks, validation_split, validation_data, shuffle, class_weight, sample_weight, initial_epoch, steps_per_epoch, validation_steps, validation_batch_size, validation_freq, max_queue_size, workers, use_multiprocessing)\u001B[0m\n\u001B[0;32m   1556\u001B[0m \u001B[38;5;28;01mwith\u001B[39;00m tf\u001B[38;5;241m.\u001B[39mprofiler\u001B[38;5;241m.\u001B[39mexperimental\u001B[38;5;241m.\u001B[39mTrace(\n\u001B[0;32m   1557\u001B[0m     \u001B[38;5;124m\"\u001B[39m\u001B[38;5;124mtrain\u001B[39m\u001B[38;5;124m\"\u001B[39m,\n\u001B[0;32m   1558\u001B[0m     epoch_num\u001B[38;5;241m=\u001B[39mepoch,\n\u001B[1;32m   (...)\u001B[0m\n\u001B[0;32m   1561\u001B[0m     _r\u001B[38;5;241m=\u001B[39m\u001B[38;5;241m1\u001B[39m,\n\u001B[0;32m   1562\u001B[0m ):\n\u001B[0;32m   1563\u001B[0m     callbacks\u001B[38;5;241m.\u001B[39mon_train_batch_begin(step)\n\u001B[1;32m-> 1564\u001B[0m     tmp_logs \u001B[38;5;241m=\u001B[39m \u001B[38;5;28;43mself\u001B[39;49m\u001B[38;5;241;43m.\u001B[39;49m\u001B[43mtrain_function\u001B[49m\u001B[43m(\u001B[49m\u001B[43miterator\u001B[49m\u001B[43m)\u001B[49m\n\u001B[0;32m   1565\u001B[0m     \u001B[38;5;28;01mif\u001B[39;00m data_handler\u001B[38;5;241m.\u001B[39mshould_sync:\n\u001B[0;32m   1566\u001B[0m         context\u001B[38;5;241m.\u001B[39masync_wait()\n",
      "File \u001B[1;32m~\\.conda\\envs\\scientificProject\\lib\\site-packages\\tensorflow\\python\\util\\traceback_utils.py:150\u001B[0m, in \u001B[0;36mfilter_traceback.<locals>.error_handler\u001B[1;34m(*args, **kwargs)\u001B[0m\n\u001B[0;32m    148\u001B[0m filtered_tb \u001B[38;5;241m=\u001B[39m \u001B[38;5;28;01mNone\u001B[39;00m\n\u001B[0;32m    149\u001B[0m \u001B[38;5;28;01mtry\u001B[39;00m:\n\u001B[1;32m--> 150\u001B[0m   \u001B[38;5;28;01mreturn\u001B[39;00m fn(\u001B[38;5;241m*\u001B[39margs, \u001B[38;5;241m*\u001B[39m\u001B[38;5;241m*\u001B[39mkwargs)\n\u001B[0;32m    151\u001B[0m \u001B[38;5;28;01mexcept\u001B[39;00m \u001B[38;5;167;01mException\u001B[39;00m \u001B[38;5;28;01mas\u001B[39;00m e:\n\u001B[0;32m    152\u001B[0m   filtered_tb \u001B[38;5;241m=\u001B[39m _process_traceback_frames(e\u001B[38;5;241m.\u001B[39m__traceback__)\n",
      "File \u001B[1;32m~\\.conda\\envs\\scientificProject\\lib\\site-packages\\tensorflow\\python\\eager\\def_function.py:915\u001B[0m, in \u001B[0;36mFunction.__call__\u001B[1;34m(self, *args, **kwds)\u001B[0m\n\u001B[0;32m    912\u001B[0m compiler \u001B[38;5;241m=\u001B[39m \u001B[38;5;124m\"\u001B[39m\u001B[38;5;124mxla\u001B[39m\u001B[38;5;124m\"\u001B[39m \u001B[38;5;28;01mif\u001B[39;00m \u001B[38;5;28mself\u001B[39m\u001B[38;5;241m.\u001B[39m_jit_compile \u001B[38;5;28;01melse\u001B[39;00m \u001B[38;5;124m\"\u001B[39m\u001B[38;5;124mnonXla\u001B[39m\u001B[38;5;124m\"\u001B[39m\n\u001B[0;32m    914\u001B[0m \u001B[38;5;28;01mwith\u001B[39;00m OptionalXlaContext(\u001B[38;5;28mself\u001B[39m\u001B[38;5;241m.\u001B[39m_jit_compile):\n\u001B[1;32m--> 915\u001B[0m   result \u001B[38;5;241m=\u001B[39m \u001B[38;5;28mself\u001B[39m\u001B[38;5;241m.\u001B[39m_call(\u001B[38;5;241m*\u001B[39margs, \u001B[38;5;241m*\u001B[39m\u001B[38;5;241m*\u001B[39mkwds)\n\u001B[0;32m    917\u001B[0m new_tracing_count \u001B[38;5;241m=\u001B[39m \u001B[38;5;28mself\u001B[39m\u001B[38;5;241m.\u001B[39mexperimental_get_tracing_count()\n\u001B[0;32m    918\u001B[0m without_tracing \u001B[38;5;241m=\u001B[39m (tracing_count \u001B[38;5;241m==\u001B[39m new_tracing_count)\n",
      "File \u001B[1;32m~\\.conda\\envs\\scientificProject\\lib\\site-packages\\tensorflow\\python\\eager\\def_function.py:947\u001B[0m, in \u001B[0;36mFunction._call\u001B[1;34m(self, *args, **kwds)\u001B[0m\n\u001B[0;32m    944\u001B[0m   \u001B[38;5;28mself\u001B[39m\u001B[38;5;241m.\u001B[39m_lock\u001B[38;5;241m.\u001B[39mrelease()\n\u001B[0;32m    945\u001B[0m   \u001B[38;5;66;03m# In this case we have created variables on the first call, so we run the\u001B[39;00m\n\u001B[0;32m    946\u001B[0m   \u001B[38;5;66;03m# defunned version which is guaranteed to never create variables.\u001B[39;00m\n\u001B[1;32m--> 947\u001B[0m   \u001B[38;5;28;01mreturn\u001B[39;00m \u001B[38;5;28mself\u001B[39m\u001B[38;5;241m.\u001B[39m_stateless_fn(\u001B[38;5;241m*\u001B[39margs, \u001B[38;5;241m*\u001B[39m\u001B[38;5;241m*\u001B[39mkwds)  \u001B[38;5;66;03m# pylint: disable=not-callable\u001B[39;00m\n\u001B[0;32m    948\u001B[0m \u001B[38;5;28;01melif\u001B[39;00m \u001B[38;5;28mself\u001B[39m\u001B[38;5;241m.\u001B[39m_stateful_fn \u001B[38;5;129;01mis\u001B[39;00m \u001B[38;5;129;01mnot\u001B[39;00m \u001B[38;5;28;01mNone\u001B[39;00m:\n\u001B[0;32m    949\u001B[0m   \u001B[38;5;66;03m# Release the lock early so that multiple threads can perform the call\u001B[39;00m\n\u001B[0;32m    950\u001B[0m   \u001B[38;5;66;03m# in parallel.\u001B[39;00m\n\u001B[0;32m    951\u001B[0m   \u001B[38;5;28mself\u001B[39m\u001B[38;5;241m.\u001B[39m_lock\u001B[38;5;241m.\u001B[39mrelease()\n",
      "File \u001B[1;32m~\\.conda\\envs\\scientificProject\\lib\\site-packages\\tensorflow\\python\\eager\\function.py:2496\u001B[0m, in \u001B[0;36mFunction.__call__\u001B[1;34m(self, *args, **kwargs)\u001B[0m\n\u001B[0;32m   2493\u001B[0m \u001B[38;5;28;01mwith\u001B[39;00m \u001B[38;5;28mself\u001B[39m\u001B[38;5;241m.\u001B[39m_lock:\n\u001B[0;32m   2494\u001B[0m   (graph_function,\n\u001B[0;32m   2495\u001B[0m    filtered_flat_args) \u001B[38;5;241m=\u001B[39m \u001B[38;5;28mself\u001B[39m\u001B[38;5;241m.\u001B[39m_maybe_define_function(args, kwargs)\n\u001B[1;32m-> 2496\u001B[0m \u001B[38;5;28;01mreturn\u001B[39;00m \u001B[43mgraph_function\u001B[49m\u001B[38;5;241;43m.\u001B[39;49m\u001B[43m_call_flat\u001B[49m\u001B[43m(\u001B[49m\n\u001B[0;32m   2497\u001B[0m \u001B[43m    \u001B[49m\u001B[43mfiltered_flat_args\u001B[49m\u001B[43m,\u001B[49m\u001B[43m \u001B[49m\u001B[43mcaptured_inputs\u001B[49m\u001B[38;5;241;43m=\u001B[39;49m\u001B[43mgraph_function\u001B[49m\u001B[38;5;241;43m.\u001B[39;49m\u001B[43mcaptured_inputs\u001B[49m\u001B[43m)\u001B[49m\n",
      "File \u001B[1;32m~\\.conda\\envs\\scientificProject\\lib\\site-packages\\tensorflow\\python\\eager\\function.py:1862\u001B[0m, in \u001B[0;36mConcreteFunction._call_flat\u001B[1;34m(self, args, captured_inputs, cancellation_manager)\u001B[0m\n\u001B[0;32m   1858\u001B[0m possible_gradient_type \u001B[38;5;241m=\u001B[39m gradients_util\u001B[38;5;241m.\u001B[39mPossibleTapeGradientTypes(args)\n\u001B[0;32m   1859\u001B[0m \u001B[38;5;28;01mif\u001B[39;00m (possible_gradient_type \u001B[38;5;241m==\u001B[39m gradients_util\u001B[38;5;241m.\u001B[39mPOSSIBLE_GRADIENT_TYPES_NONE\n\u001B[0;32m   1860\u001B[0m     \u001B[38;5;129;01mand\u001B[39;00m executing_eagerly):\n\u001B[0;32m   1861\u001B[0m   \u001B[38;5;66;03m# No tape is watching; skip to running the function.\u001B[39;00m\n\u001B[1;32m-> 1862\u001B[0m   \u001B[38;5;28;01mreturn\u001B[39;00m \u001B[38;5;28mself\u001B[39m\u001B[38;5;241m.\u001B[39m_build_call_outputs(\u001B[38;5;28;43mself\u001B[39;49m\u001B[38;5;241;43m.\u001B[39;49m\u001B[43m_inference_function\u001B[49m\u001B[38;5;241;43m.\u001B[39;49m\u001B[43mcall\u001B[49m\u001B[43m(\u001B[49m\n\u001B[0;32m   1863\u001B[0m \u001B[43m      \u001B[49m\u001B[43mctx\u001B[49m\u001B[43m,\u001B[49m\u001B[43m \u001B[49m\u001B[43margs\u001B[49m\u001B[43m,\u001B[49m\u001B[43m \u001B[49m\u001B[43mcancellation_manager\u001B[49m\u001B[38;5;241;43m=\u001B[39;49m\u001B[43mcancellation_manager\u001B[49m\u001B[43m)\u001B[49m)\n\u001B[0;32m   1864\u001B[0m forward_backward \u001B[38;5;241m=\u001B[39m \u001B[38;5;28mself\u001B[39m\u001B[38;5;241m.\u001B[39m_select_forward_and_backward_functions(\n\u001B[0;32m   1865\u001B[0m     args,\n\u001B[0;32m   1866\u001B[0m     possible_gradient_type,\n\u001B[0;32m   1867\u001B[0m     executing_eagerly)\n\u001B[0;32m   1868\u001B[0m forward_function, args_with_tangents \u001B[38;5;241m=\u001B[39m forward_backward\u001B[38;5;241m.\u001B[39mforward()\n",
      "File \u001B[1;32m~\\.conda\\envs\\scientificProject\\lib\\site-packages\\tensorflow\\python\\eager\\function.py:499\u001B[0m, in \u001B[0;36m_EagerDefinedFunction.call\u001B[1;34m(self, ctx, args, cancellation_manager)\u001B[0m\n\u001B[0;32m    497\u001B[0m \u001B[38;5;28;01mwith\u001B[39;00m _InterpolateFunctionError(\u001B[38;5;28mself\u001B[39m):\n\u001B[0;32m    498\u001B[0m   \u001B[38;5;28;01mif\u001B[39;00m cancellation_manager \u001B[38;5;129;01mis\u001B[39;00m \u001B[38;5;28;01mNone\u001B[39;00m:\n\u001B[1;32m--> 499\u001B[0m     outputs \u001B[38;5;241m=\u001B[39m \u001B[43mexecute\u001B[49m\u001B[38;5;241;43m.\u001B[39;49m\u001B[43mexecute\u001B[49m\u001B[43m(\u001B[49m\n\u001B[0;32m    500\u001B[0m \u001B[43m        \u001B[49m\u001B[38;5;28;43mstr\u001B[39;49m\u001B[43m(\u001B[49m\u001B[38;5;28;43mself\u001B[39;49m\u001B[38;5;241;43m.\u001B[39;49m\u001B[43msignature\u001B[49m\u001B[38;5;241;43m.\u001B[39;49m\u001B[43mname\u001B[49m\u001B[43m)\u001B[49m\u001B[43m,\u001B[49m\n\u001B[0;32m    501\u001B[0m \u001B[43m        \u001B[49m\u001B[43mnum_outputs\u001B[49m\u001B[38;5;241;43m=\u001B[39;49m\u001B[38;5;28;43mself\u001B[39;49m\u001B[38;5;241;43m.\u001B[39;49m\u001B[43m_num_outputs\u001B[49m\u001B[43m,\u001B[49m\n\u001B[0;32m    502\u001B[0m \u001B[43m        \u001B[49m\u001B[43minputs\u001B[49m\u001B[38;5;241;43m=\u001B[39;49m\u001B[43margs\u001B[49m\u001B[43m,\u001B[49m\n\u001B[0;32m    503\u001B[0m \u001B[43m        \u001B[49m\u001B[43mattrs\u001B[49m\u001B[38;5;241;43m=\u001B[39;49m\u001B[43mattrs\u001B[49m\u001B[43m,\u001B[49m\n\u001B[0;32m    504\u001B[0m \u001B[43m        \u001B[49m\u001B[43mctx\u001B[49m\u001B[38;5;241;43m=\u001B[39;49m\u001B[43mctx\u001B[49m\u001B[43m)\u001B[49m\n\u001B[0;32m    505\u001B[0m   \u001B[38;5;28;01melse\u001B[39;00m:\n\u001B[0;32m    506\u001B[0m     outputs \u001B[38;5;241m=\u001B[39m execute\u001B[38;5;241m.\u001B[39mexecute_with_cancellation(\n\u001B[0;32m    507\u001B[0m         \u001B[38;5;28mstr\u001B[39m(\u001B[38;5;28mself\u001B[39m\u001B[38;5;241m.\u001B[39msignature\u001B[38;5;241m.\u001B[39mname),\n\u001B[0;32m    508\u001B[0m         num_outputs\u001B[38;5;241m=\u001B[39m\u001B[38;5;28mself\u001B[39m\u001B[38;5;241m.\u001B[39m_num_outputs,\n\u001B[1;32m   (...)\u001B[0m\n\u001B[0;32m    511\u001B[0m         ctx\u001B[38;5;241m=\u001B[39mctx,\n\u001B[0;32m    512\u001B[0m         cancellation_manager\u001B[38;5;241m=\u001B[39mcancellation_manager)\n",
      "File \u001B[1;32m~\\.conda\\envs\\scientificProject\\lib\\site-packages\\tensorflow\\python\\eager\\execute.py:54\u001B[0m, in \u001B[0;36mquick_execute\u001B[1;34m(op_name, num_outputs, inputs, attrs, ctx, name)\u001B[0m\n\u001B[0;32m     52\u001B[0m \u001B[38;5;28;01mtry\u001B[39;00m:\n\u001B[0;32m     53\u001B[0m   ctx\u001B[38;5;241m.\u001B[39mensure_initialized()\n\u001B[1;32m---> 54\u001B[0m   tensors \u001B[38;5;241m=\u001B[39m \u001B[43mpywrap_tfe\u001B[49m\u001B[38;5;241;43m.\u001B[39;49m\u001B[43mTFE_Py_Execute\u001B[49m\u001B[43m(\u001B[49m\u001B[43mctx\u001B[49m\u001B[38;5;241;43m.\u001B[39;49m\u001B[43m_handle\u001B[49m\u001B[43m,\u001B[49m\u001B[43m \u001B[49m\u001B[43mdevice_name\u001B[49m\u001B[43m,\u001B[49m\u001B[43m \u001B[49m\u001B[43mop_name\u001B[49m\u001B[43m,\u001B[49m\n\u001B[0;32m     55\u001B[0m \u001B[43m                                      \u001B[49m\u001B[43minputs\u001B[49m\u001B[43m,\u001B[49m\u001B[43m \u001B[49m\u001B[43mattrs\u001B[49m\u001B[43m,\u001B[49m\u001B[43m \u001B[49m\u001B[43mnum_outputs\u001B[49m\u001B[43m)\u001B[49m\n\u001B[0;32m     56\u001B[0m \u001B[38;5;28;01mexcept\u001B[39;00m core\u001B[38;5;241m.\u001B[39m_NotOkStatusException \u001B[38;5;28;01mas\u001B[39;00m e:\n\u001B[0;32m     57\u001B[0m   \u001B[38;5;28;01mif\u001B[39;00m name \u001B[38;5;129;01mis\u001B[39;00m \u001B[38;5;129;01mnot\u001B[39;00m \u001B[38;5;28;01mNone\u001B[39;00m:\n",
      "\u001B[1;31mKeyboardInterrupt\u001B[0m: "
     ]
    }
   ],
   "source": [
    "# Run the training with dynamic LR\n",
    "lr_history = adjust_learning_rate(train_set)"
   ]
  },
  {
   "cell_type": "code",
   "execution_count": 122,
   "metadata": {
    "outputId": "254d2198-f4dc-4123-a982-62479e986734",
    "id": "u60avw_AsSEK",
    "ExecuteTime": {
     "end_time": "2024-04-01T04:02:25.306452900Z",
     "start_time": "2024-04-01T04:02:25.099902600Z"
    }
   },
   "outputs": [
    {
     "data": {
      "text/plain": "(0.0001, 10.0, 0.0, 10.0)"
     },
     "execution_count": 122,
     "metadata": {},
     "output_type": "execute_result"
    },
    {
     "data": {
      "text/plain": "<Figure size 640x480 with 1 Axes>",
      "image/png": "[encoded data removed]"
     },
     "metadata": {},
     "output_type": "display_data"
    }
   ],
   "source": [
    "plt.semilogx(lr_history.history[\"lr\"], lr_history.history[\"loss\"])\n",
    "plt.axis([1e-4, 10, 0, 10])"
   ]
  },
  {
   "cell_type": "markdown",
   "metadata": {
    "id": "bifpXQEdsSEK"
   },
   "source": [
    "## Compiling the model\n",
    "Now that you have trained the model while varying the learning rate, it is time to do the actual training that will be used to forecast the time series. For this complete the `create_model` function below.\n",
    "\n",
    "Notice that you are reusing the architecture you defined in the `create_uncompiled_model` earlier. Now you only need to compile this model using the appropriate loss, optimizer (and learning rate).\n",
    "\n",
    "Hints:\n",
    "\n",
    "- The training should be really quick so if you notice that each epoch is taking more than a few seconds, consider trying a different architecture.\n",
    "\n",
    "\n",
    "- If after the first epoch you get an output like this: loss: nan - mae: nan it is very likely that your network is suffering from exploding gradients. This is a common problem if you used SGD as optimizer and set a learning rate that is too high. If you encounter this problem consider lowering the learning rate or using Adam with the default learning rate."
   ]
  },
  {
   "cell_type": "code",
   "execution_count": 123,
   "metadata": {
    "id": "KjNxGmEMsSEK",
    "ExecuteTime": {
     "end_time": "2024-04-01T04:03:10.254344500Z",
     "start_time": "2024-04-01T04:03:10.228763200Z"
    }
   },
   "outputs": [],
   "source": [
    "def create_model_mul_RNN():\n",
    "\n",
    "\n",
    "    model = create_model_no_lmbda_fnc_api_mult()\n",
    "\n",
    "    ### START CODE HERE\n",
    "\n",
    "    # model.compile(loss=None,\n",
    "    #               optimizer=None,\n",
    "    #               metrics=[\"mae\"])\n",
    "    optimizer = tf.keras.optimizers.SGD(learning_rate=1e-3,momentum=0.9)\n",
    "\n",
    "    # Compile the model passing in the appropriate loss\n",
    "    model.compile(loss=tf.keras.losses.Huber(),\n",
    "                  optimizer=optimizer,\n",
    "                  metrics=[\"mae\"])\n",
    "\n",
    "\n",
    "    ### END CODE HERE\n",
    "\n",
    "    return model"
   ]
  },
  {
   "cell_type": "code",
   "execution_count": 124,
   "metadata": {
    "outputId": "437d0977-da05-4da0-aa2a-175fe1677a77",
    "id": "AX9SFU68sSEK",
    "ExecuteTime": {
     "end_time": "2024-04-01T04:08:15.029334900Z",
     "start_time": "2024-04-01T04:03:12.090475Z"
    }
   },
   "outputs": [
    {
     "name": "stdout",
     "output_type": "stream",
     "text": [
      "Epoch 1/50\n",
      "77/77 [==============================] - 7s 77ms/step - loss: 2.1472 - mae: 2.6038\n",
      "Epoch 2/50\n",
      "77/77 [==============================] - 6s 75ms/step - loss: 1.6979 - mae: 2.1452\n",
      "Epoch 3/50\n",
      "77/77 [==============================] - 6s 74ms/step - loss: 1.6371 - mae: 2.0820\n",
      "Epoch 4/50\n",
      "77/77 [==============================] - 6s 72ms/step - loss: 1.5999 - mae: 2.0424\n",
      "Epoch 5/50\n",
      "77/77 [==============================] - 6s 73ms/step - loss: 1.6607 - mae: 2.1088\n",
      "Epoch 6/50\n",
      "77/77 [==============================] - 6s 75ms/step - loss: 1.7049 - mae: 2.1512\n",
      "Epoch 7/50\n",
      "77/77 [==============================] - 6s 73ms/step - loss: 1.6624 - mae: 2.1078\n",
      "Epoch 8/50\n",
      "77/77 [==============================] - 7s 84ms/step - loss: 1.5779 - mae: 2.0188\n",
      "Epoch 9/50\n",
      "77/77 [==============================] - 6s 79ms/step - loss: 1.5271 - mae: 1.9675\n",
      "Epoch 10/50\n",
      "77/77 [==============================] - 6s 82ms/step - loss: 1.5733 - mae: 2.0160\n",
      "Epoch 11/50\n",
      "77/77 [==============================] - 6s 80ms/step - loss: 1.6602 - mae: 2.1034\n",
      "Epoch 12/50\n",
      "77/77 [==============================] - 6s 81ms/step - loss: 1.6079 - mae: 2.0507\n",
      "Epoch 13/50\n",
      "77/77 [==============================] - 6s 77ms/step - loss: 1.5321 - mae: 1.9766\n",
      "Epoch 14/50\n",
      "77/77 [==============================] - 6s 77ms/step - loss: 1.5903 - mae: 2.0362\n",
      "Epoch 15/50\n",
      "77/77 [==============================] - 6s 78ms/step - loss: 1.5510 - mae: 1.9904\n",
      "Epoch 16/50\n",
      "77/77 [==============================] - 6s 71ms/step - loss: 1.5364 - mae: 1.9790\n",
      "Epoch 17/50\n",
      "77/77 [==============================] - 6s 78ms/step - loss: 1.5680 - mae: 2.0112\n",
      "Epoch 18/50\n",
      "77/77 [==============================] - 6s 76ms/step - loss: 1.5008 - mae: 1.9399\n",
      "Epoch 19/50\n",
      "77/77 [==============================] - 6s 73ms/step - loss: 1.5051 - mae: 1.9452\n",
      "Epoch 20/50\n",
      "77/77 [==============================] - 6s 76ms/step - loss: 1.4953 - mae: 1.9351\n",
      "Epoch 21/50\n",
      "77/77 [==============================] - 6s 72ms/step - loss: 1.5366 - mae: 1.9801\n",
      "Epoch 22/50\n",
      "77/77 [==============================] - 6s 72ms/step - loss: 1.5118 - mae: 1.9536\n",
      "Epoch 23/50\n",
      "77/77 [==============================] - 5s 69ms/step - loss: 1.5179 - mae: 1.9619\n",
      "Epoch 24/50\n",
      "77/77 [==============================] - 6s 72ms/step - loss: 1.4807 - mae: 1.9225\n",
      "Epoch 25/50\n",
      "77/77 [==============================] - 6s 72ms/step - loss: 1.4778 - mae: 1.9183\n",
      "Epoch 26/50\n",
      "77/77 [==============================] - 6s 75ms/step - loss: 1.5241 - mae: 1.9694\n",
      "Epoch 27/50\n",
      "77/77 [==============================] - 6s 75ms/step - loss: 1.5320 - mae: 1.9729\n",
      "Epoch 28/50\n",
      "77/77 [==============================] - 6s 75ms/step - loss: 1.5733 - mae: 2.0184\n",
      "Epoch 29/50\n",
      "77/77 [==============================] - 6s 73ms/step - loss: 1.4868 - mae: 1.9245\n",
      "Epoch 30/50\n",
      "77/77 [==============================] - 6s 79ms/step - loss: 1.4751 - mae: 1.9131\n",
      "Epoch 31/50\n",
      "77/77 [==============================] - 6s 82ms/step - loss: 1.4668 - mae: 1.9058\n",
      "Epoch 32/50\n",
      "77/77 [==============================] - 7s 85ms/step - loss: 1.4479 - mae: 1.8869\n",
      "Epoch 33/50\n",
      "77/77 [==============================] - 6s 83ms/step - loss: 1.5000 - mae: 1.9420\n",
      "Epoch 34/50\n",
      "77/77 [==============================] - 6s 77ms/step - loss: 1.4664 - mae: 1.9050\n",
      "Epoch 35/50\n",
      "77/77 [==============================] - 6s 74ms/step - loss: 1.5342 - mae: 1.9755\n",
      "Epoch 36/50\n",
      "77/77 [==============================] - 6s 79ms/step - loss: 1.4668 - mae: 1.9050\n",
      "Epoch 37/50\n",
      "77/77 [==============================] - 6s 79ms/step - loss: 1.5109 - mae: 1.9533\n",
      "Epoch 38/50\n",
      "77/77 [==============================] - 6s 78ms/step - loss: 1.4794 - mae: 1.9192\n",
      "Epoch 39/50\n",
      "77/77 [==============================] - 6s 79ms/step - loss: 1.4636 - mae: 1.9050\n",
      "Epoch 40/50\n",
      "77/77 [==============================] - 6s 74ms/step - loss: 1.4953 - mae: 1.9339\n",
      "Epoch 41/50\n",
      "77/77 [==============================] - 6s 81ms/step - loss: 1.4584 - mae: 1.8953\n",
      "Epoch 42/50\n",
      "77/77 [==============================] - 7s 84ms/step - loss: 1.4625 - mae: 1.8993\n",
      "Epoch 43/50\n",
      "77/77 [==============================] - 6s 80ms/step - loss: 1.4625 - mae: 1.8990\n",
      "Epoch 44/50\n",
      "77/77 [==============================] - 6s 81ms/step - loss: 1.4591 - mae: 1.8985\n",
      "Epoch 45/50\n",
      "77/77 [==============================] - 6s 79ms/step - loss: 1.4437 - mae: 1.8810\n",
      "Epoch 46/50\n",
      "77/77 [==============================] - 6s 77ms/step - loss: 1.4666 - mae: 1.9059\n",
      "Epoch 47/50\n",
      "77/77 [==============================] - 6s 79ms/step - loss: 1.4731 - mae: 1.9106\n",
      "Epoch 48/50\n",
      "77/77 [==============================] - 6s 79ms/step - loss: 1.4640 - mae: 1.9028\n",
      "Epoch 49/50\n",
      "77/77 [==============================] - 6s 79ms/step - loss: 1.4627 - mae: 1.9036\n",
      "Epoch 50/50\n",
      "77/77 [==============================] - 6s 82ms/step - loss: 1.4336 - mae: 1.8744\n"
     ]
    }
   ],
   "source": [
    "# Save an instance of the model\n",
    "model_mul_RNN = create_model_mul_RNN()\n",
    "\n",
    "# Train it\n",
    "history = model_mul_RNN.fit(train_set, epochs=50)"
   ]
  },
  {
   "cell_type": "markdown",
   "metadata": {
    "id": "g6pHFolKsSEK"
   },
   "source": [
    "## Evaluating the forecast\n",
    "\n",
    "Now it is time to evaluate the performance of the forecast. For this you can use the `compute_metrics` function that you coded in a previous assignment:"
   ]
  },
  {
   "cell_type": "code",
   "execution_count": null,
   "metadata": {
    "ExecuteTime": {
     "end_time": "2024-04-01T01:48:59.829251200Z",
     "start_time": "2024-04-01T01:48:59.811300800Z"
    },
    "id": "lFYosvA6sSEK"
   },
   "outputs": [],
   "source": [
    "# def compute_metrics(true_series, forecast):\n",
    "#\n",
    "#     mse = tf.keras.metrics.mean_squared_error(true_series, forecast).numpy()\n",
    "#     mae = tf.keras.metrics.mean_absolute_error(true_series, forecast).numpy()\n",
    "#\n",
    "#     return mse, mae"
   ]
  },
  {
   "cell_type": "markdown",
   "metadata": {
    "id": "URkbiPyDsSEK"
   },
   "source": [
    "At this point only the model that will perform the forecast is ready but you still need to compute the actual forecast.\n",
    "\n"
   ]
  },
  {
   "cell_type": "markdown",
   "metadata": {
    "id": "qiZVV-UgsSEK"
   },
   "source": [
    "## Faster model forecasts\n",
    "\n",
    "In the previous week you saw a faster approach compared to using a for loop to compute the forecasts for every point in the sequence. Remember that this faster approach uses batches of data.\n",
    "\n",
    "The code to implement this is provided in the `model_forecast` below. Notice that the code is very similar to the one in the `windowed_dataset` function with the differences that:\n",
    "- The dataset is windowed using `window_size` rather than `window_size + 1`\n",
    "- No shuffle should be used\n",
    "- No need to split the data into features and labels\n",
    "- A model is used to predict batches of the dataset"
   ]
  },
  {
   "cell_type": "code",
   "execution_count": null,
   "metadata": {
    "ExecuteTime": {
     "end_time": "2024-04-01T01:48:59.839669300Z",
     "start_time": "2024-04-01T01:48:59.827115800Z"
    },
    "id": "yhF2JD8XsSEK"
   },
   "outputs": [],
   "source": [
    "# def model_forecast(model, series, window_size):\n",
    "#     ds = tf.data.Dataset.from_tensor_slices(series)\n",
    "#     ds = ds.window(window_size, shift=1, drop_remainder=True)\n",
    "#     ds = ds.flat_map(lambda w: w.batch(window_size))\n",
    "#     ds = ds.batch(32).prefetch(1)\n",
    "#     forecast = model.predict(ds)\n",
    "#     return forecast"
   ]
  },
  {
   "cell_type": "markdown",
   "metadata": {
    "id": "FMZuvt61sSEK"
   },
   "source": [
    "Now compute the actual forecast:\n",
    "\n",
    "**Note:** Don't modify the cell below.\n",
    "\n",
    "The grader uses the same slicing to get the forecast so if you change the cell below you risk having issues when submitting your model for grading."
   ]
  },
  {
   "cell_type": "markdown",
   "source": [
    "## use blw to forecast"
   ],
   "metadata": {
    "collapsed": false,
    "id": "EEB7rplmsSEK"
   }
  },
  {
   "cell_type": "markdown",
   "source": [
    "## simple rnn, didnt do great,\n",
    "```\n",
    "36/36 [==============================] - 0s 11ms/step\n",
    "ours_forecasted_rnn.shape (1150, 1)\n",
    "ours_forecasted_rnn[:5] [[10.325488]\n",
    " [10.325488]\n",
    " [10.325488]\n",
    " [10.325488]\n",
    " [10.325488]]\n",
    "ours_forecasted_rnn_sqz.shape (1150,)\n",
    "ours_forecasted_rnn_sqz[:5] [10.325488 10.325488 10.325488 10.325488 10.325488]\n",
    "```"
   ],
   "metadata": {
    "collapsed": false,
    "id": "V7ASbF1isSEK"
   }
  },
  {
   "cell_type": "code",
   "outputs": [
    {
     "name": "stdout",
     "output_type": "stream",
     "text": [
      "36/36 [==============================] - 1s 17ms/step\n",
      "ours_forecasted_mul_rnn.shape (1150, 1)\n",
      "ours_forecasted_mul_rnn[:5] [[12.476819]\n",
      " [12.015289]\n",
      " [12.852006]\n",
      " [13.657866]\n",
      " [12.14419 ]]\n",
      "ours_forecasted_mul_rnn_sqz.shape (1150,)\n",
      "ours_forecasted_mul_rnn_sqz[:5] [12.476819 12.015289 12.852006 13.657866 12.14419 ]\n"
     ]
    },
    {
     "data": {
      "text/plain": "<Figure size 1000x600 with 1 Axes>",
      "image/png": "[encoded data removed]"
     },
     "metadata": {},
     "output_type": "display_data"
    }
   ],
   "source": [
    "ours_xval_series = G.SERIES[G.SPLIT_TIME-G.WINDOW_SIZE:-1]\n",
    "ours_forecasted_mul_rnn=model_forecast(model_mul_RNN, ours_xval_series, G.WINDOW_SIZE)\n",
    "print('ours_forecasted_mul_rnn.shape',ours_forecasted_mul_rnn.shape)\n",
    "print('ours_forecasted_mul_rnn[:5]',ours_forecasted_mul_rnn[:5])\n",
    "ours_forecasted_mul_rnn_sqz=ours_forecasted_mul_rnn.squeeze()\n",
    "print('ours_forecasted_mul_rnn_sqz.shape',ours_forecasted_mul_rnn_sqz.shape)\n",
    "print('ours_forecasted_mul_rnn_sqz[:5]',ours_forecasted_mul_rnn_sqz[:5])\n",
    "\n",
    "# Plot the forecast\n",
    "plt.figure(figsize=(10, 6))\n",
    "plot_series(time_valid, series_valid)\n",
    "plot_series(time_valid, ours_forecasted_mul_rnn_sqz)"
   ],
   "metadata": {
    "outputId": "0de0c114-360c-44ce-94c1-9ca353c85622",
    "id": "rvHLR3_vsSEK",
    "ExecuteTime": {
     "end_time": "2024-04-01T04:08:40.906148400Z",
     "start_time": "2024-04-01T04:08:40.040037700Z"
    }
   },
   "execution_count": 125
  },
  {
   "cell_type": "code",
   "source": [
    "# def compute_metrics(true_series, forecast):\n",
    "#\n",
    "#     mse = tf.keras.metrics.mean_squared_error(true_series, forecast).numpy()\n",
    "#     mae = tf.keras.metrics.mean_absolute_error(true_series, forecast).numpy()\n",
    "#\n",
    "#     return mse, mae"
   ],
   "metadata": {
    "ExecuteTime": {
     "end_time": "2024-04-01T01:49:00.439221Z",
     "start_time": "2024-04-01T01:49:00.410623100Z"
    },
    "id": "y93uzCebsSEK"
   },
   "execution_count": null,
   "outputs": []
  },
  {
   "cell_type": "markdown",
   "source": [
    "## simple rnn,\n",
    "mse: 8.65, mae: 2.35 for forecast"
   ],
   "metadata": {
    "collapsed": false,
    "id": "DfY7FBNhsSEK"
   }
  },
  {
   "cell_type": "code",
   "outputs": [
    {
     "name": "stdout",
     "output_type": "stream",
     "text": [
      "mse: 5.37, mae: 1.82 for forecast\n"
     ]
    }
   ],
   "source": [
    "mse, mae = compute_metrics(series_valid, ours_forecasted_mul_rnn_sqz)\n",
    "\n",
    "print(f\"mse: {mse:.2f}, mae: {mae:.2f} for forecast\")"
   ],
   "metadata": {
    "outputId": "e0d8d1d2-0048-44ff-c920-091514fb0e7e",
    "id": "0JAGrY-7sSEL",
    "ExecuteTime": {
     "end_time": "2024-04-01T04:08:49.794980400Z",
     "start_time": "2024-04-01T04:08:49.756658400Z"
    }
   },
   "execution_count": 126
  },
  {
   "cell_type": "code",
   "outputs": [
    {
     "data": {
      "text/plain": "{'mae': 1.8158252,\n 'mse': 5.3699465,\n 'rmse': 2.3173144,\n 'mape': 19.435757,\n 'mase': 0.902493}"
     },
     "execution_count": 127,
     "metadata": {},
     "output_type": "execute_result"
    }
   ],
   "source": [
    "rslt_simple_mul_rnn=evaluate_preds(series_valid,ours_forecasted_mul_rnn_sqz)\n",
    "rslt_simple_mul_rnn"
   ],
   "metadata": {
    "outputId": "54112f61-3ac5-470c-c868-00cbd26d347f",
    "id": "usNRrg7osSEL",
    "ExecuteTime": {
     "end_time": "2024-04-01T04:08:57.178262200Z",
     "start_time": "2024-04-01T04:08:57.152831400Z"
    }
   },
   "execution_count": 127
  },
  {
   "cell_type": "code",
   "outputs": [],
   "source": [],
   "metadata": {
    "collapsed": false
   }
  },
  {
   "cell_type": "markdown",
   "source": [
    "https://github.com/williamcwi/DeepLearning.AI-TensorFlow-Developer-Professional-Certificate/blob/master/4.%20Sequences%2C%20Time%20Serirs%20and%20Prediction/4.%20Real-world%20Time%20Series%20Data/assignment/C4_W4_Assignment_Solution.ipynb"
   ],
   "metadata": {
    "collapsed": false
   }
  },
  {
   "cell_type": "code",
   "outputs": [],
   "source": [],
   "metadata": {
    "collapsed": false
   }
  },
  {
   "cell_type": "code",
   "outputs": [],
   "source": [],
   "metadata": {
    "collapsed": false
   }
  },
  {
   "cell_type": "markdown",
   "metadata": {
    "id": "lvPbgLSizGfH"
   },
   "source": [
    "**To pass this assignment your forecast should achieve a MSE of 6 or less and a MAE of 2 or less.**\n",
    "\n",
    "- If your forecast didn't achieve this threshold try re-training your model with a different architecture (you will need to re-run both `create_uncompiled_model` and `create_model` functions) or tweaking the optimizer's parameters.\n",
    "\n",
    "\n",
    "- If your forecast did achieve this threshold run the following cell to save the model in the SavedModel format which will be used for grading and after doing so, submit your assigment for grading.\n",
    "\n",
    "\n",
    "- This environment includes a dummy SavedModel directory which contains a dummy model trained for one epoch. **To replace this file with your actual model you need to run the next cell before submitting for grading.**"
   ]
  },
  {
   "cell_type": "code",
   "execution_count": null,
   "metadata": {
    "id": "ctWrca46zGfH",
    "ExecuteTime": {
     "end_time": "2024-04-01T01:49:00.470099900Z",
     "start_time": "2024-04-01T01:49:00.438185100Z"
    }
   },
   "outputs": [],
   "source": [
    "# # Save your model in the SavedModel format\n",
    "# model.save('saved_model/my_model')\n",
    "#\n",
    "# # Compress the directory using tar\n",
    "# ! tar -czvf saved_model.tar.gz saved_model/"
   ]
  },
  {
   "cell_type": "markdown",
   "metadata": {
    "id": "Y-ZR3RWUzGfH"
   },
   "source": [
    "**Congratulations on finishing this week's assignment!**\n",
    "\n",
    "You have successfully implemented a neural network capable of forecasting time series leveraging a combination of Tensorflow's layers such as Convolutional and LSTMs! This resulted in a forecast that surpasses all the ones you did previously.\n",
    "\n",
    "**By finishing this assignment you have finished the specialization! Give yourself a pat on the back!!!**"
   ]
  }
 ],
 "metadata": {
  "kernelspec": {
   "name": "scientificproject",
   "language": "python",
   "display_name": "T210 GPU"
  },
  "language_info": {
   "codemirror_mode": {
    "name": "ipython",
    "version": 3
   },
   "file_extension": ".py",
   "mimetype": "text/x-python",
   "name": "python",
   "nbconvert_exporter": "python",
   "pygments_lexer": "ipython3",
   "version": "3.8.8"
  },
  "colab": {
   "provenance": []
  }
 },
 "nbformat": 4,
 "nbformat_minor": 0
}
